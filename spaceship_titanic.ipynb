{
 "cells": [
  {
   "cell_type": "markdown",
   "id": "8669d559",
   "metadata": {},
   "source": [
    "# Spaceship Titanic Competition 2025\n",
    "\n",
    "In this notebook, I will be predicting transportation status of passengers in order to help mitigate passengers being transported to an alternate dimension. The goal of this exercise is to achieve the highest predictive accuracy possible using ML models and statistics. \n",
    "\n",
    "The Process I will follow for this project is as follows: \n",
    "* Import dataset and clean\n",
    "* Perform initial EDA and anomaly detection\n",
    "* Engineer features for flatter data\n",
    "* Data Preprocessing\n",
    "* Model development\n",
    "* Ensemble and final predictions\n",
    "* Results summary"
   ]
  },
  {
   "cell_type": "markdown",
   "id": "dc9d5f38",
   "metadata": {},
   "source": [
    "## Import Dataset and Clean\n",
    "\n",
    "A summary of each column from the data tab in Kaggle: \n",
    "* PassengerId - A unique Id for each passenger. Each Id takes the form gggg_pp where gggg indicates a group the passenger is travelling with and pp is their number within the group. People in a group are often family members, but not always.\n",
    "* HomePlanet - The planet the passenger departed from, typically their planet of permanent residence.\n",
    "* CryoSleep - Indicates whether the passenger elected to be put into suspended animation for the duration of the voyage. Passengers in cryosleep are confined to their cabins.\n",
    "* Cabin - The cabin number where the passenger is staying. Takes the form deck/num/side, where side can be either P for Port or S for Starboard.\n",
    "* Destination - The planet the passenger will be debarking to.\n",
    "* Age - The age of the passenger.\n",
    "* VIP - Whether the passenger has paid for special VIP service during the voyage.\n",
    "* RoomService, FoodCourt, ShoppingMall, Spa, VRDeck - Amount the passenger has billed at each of the Spaceship Titanic's many luxury amenities.\n",
    "* Name - The first and last names of the passenger.\n",
    "* Transported - Whether the passenger was transported to another dimension. This is the target, the column you are trying to predict."
   ]
  },
  {
   "cell_type": "code",
   "execution_count": 1,
   "id": "2d14299c",
   "metadata": {},
   "outputs": [
    {
     "data": {
      "application/vnd.microsoft.datawrangler.viewer.v0+json": {
       "columns": [
        {
         "name": "index",
         "rawType": "int64",
         "type": "integer"
        },
        {
         "name": "PassengerId",
         "rawType": "object",
         "type": "string"
        },
        {
         "name": "HomePlanet",
         "rawType": "object",
         "type": "string"
        },
        {
         "name": "CryoSleep",
         "rawType": "object",
         "type": "unknown"
        },
        {
         "name": "Cabin",
         "rawType": "object",
         "type": "string"
        },
        {
         "name": "Destination",
         "rawType": "object",
         "type": "string"
        },
        {
         "name": "Age",
         "rawType": "float64",
         "type": "float"
        },
        {
         "name": "VIP",
         "rawType": "object",
         "type": "unknown"
        },
        {
         "name": "RoomService",
         "rawType": "float64",
         "type": "float"
        },
        {
         "name": "FoodCourt",
         "rawType": "float64",
         "type": "float"
        },
        {
         "name": "ShoppingMall",
         "rawType": "float64",
         "type": "float"
        },
        {
         "name": "Spa",
         "rawType": "float64",
         "type": "float"
        },
        {
         "name": "VRDeck",
         "rawType": "float64",
         "type": "float"
        },
        {
         "name": "Name",
         "rawType": "object",
         "type": "string"
        },
        {
         "name": "Transported",
         "rawType": "bool",
         "type": "boolean"
        }
       ],
       "ref": "d0df2da7-cce9-457f-a81a-2ffd8b0c81e7",
       "rows": [
        [
         "0",
         "0001_01",
         "Europa",
         "False",
         "B/0/P",
         "TRAPPIST-1e",
         "39.0",
         "False",
         "0.0",
         "0.0",
         "0.0",
         "0.0",
         "0.0",
         "Maham Ofracculy",
         "False"
        ],
        [
         "1",
         "0002_01",
         "Earth",
         "False",
         "F/0/S",
         "TRAPPIST-1e",
         "24.0",
         "False",
         "109.0",
         "9.0",
         "25.0",
         "549.0",
         "44.0",
         "Juanna Vines",
         "True"
        ],
        [
         "2",
         "0003_01",
         "Europa",
         "False",
         "A/0/S",
         "TRAPPIST-1e",
         "58.0",
         "True",
         "43.0",
         "3576.0",
         "0.0",
         "6715.0",
         "49.0",
         "Altark Susent",
         "False"
        ],
        [
         "3",
         "0003_02",
         "Europa",
         "False",
         "A/0/S",
         "TRAPPIST-1e",
         "33.0",
         "False",
         "0.0",
         "1283.0",
         "371.0",
         "3329.0",
         "193.0",
         "Solam Susent",
         "False"
        ],
        [
         "4",
         "0004_01",
         "Earth",
         "False",
         "F/1/S",
         "TRAPPIST-1e",
         "16.0",
         "False",
         "303.0",
         "70.0",
         "151.0",
         "565.0",
         "2.0",
         "Willy Santantines",
         "True"
        ]
       ],
       "shape": {
        "columns": 14,
        "rows": 5
       }
      },
      "text/html": [
       "<div>\n",
       "<style scoped>\n",
       "    .dataframe tbody tr th:only-of-type {\n",
       "        vertical-align: middle;\n",
       "    }\n",
       "\n",
       "    .dataframe tbody tr th {\n",
       "        vertical-align: top;\n",
       "    }\n",
       "\n",
       "    .dataframe thead th {\n",
       "        text-align: right;\n",
       "    }\n",
       "</style>\n",
       "<table border=\"1\" class=\"dataframe\">\n",
       "  <thead>\n",
       "    <tr style=\"text-align: right;\">\n",
       "      <th></th>\n",
       "      <th>PassengerId</th>\n",
       "      <th>HomePlanet</th>\n",
       "      <th>CryoSleep</th>\n",
       "      <th>Cabin</th>\n",
       "      <th>Destination</th>\n",
       "      <th>Age</th>\n",
       "      <th>VIP</th>\n",
       "      <th>RoomService</th>\n",
       "      <th>FoodCourt</th>\n",
       "      <th>ShoppingMall</th>\n",
       "      <th>Spa</th>\n",
       "      <th>VRDeck</th>\n",
       "      <th>Name</th>\n",
       "      <th>Transported</th>\n",
       "    </tr>\n",
       "  </thead>\n",
       "  <tbody>\n",
       "    <tr>\n",
       "      <th>0</th>\n",
       "      <td>0001_01</td>\n",
       "      <td>Europa</td>\n",
       "      <td>False</td>\n",
       "      <td>B/0/P</td>\n",
       "      <td>TRAPPIST-1e</td>\n",
       "      <td>39.0</td>\n",
       "      <td>False</td>\n",
       "      <td>0.0</td>\n",
       "      <td>0.0</td>\n",
       "      <td>0.0</td>\n",
       "      <td>0.0</td>\n",
       "      <td>0.0</td>\n",
       "      <td>Maham Ofracculy</td>\n",
       "      <td>False</td>\n",
       "    </tr>\n",
       "    <tr>\n",
       "      <th>1</th>\n",
       "      <td>0002_01</td>\n",
       "      <td>Earth</td>\n",
       "      <td>False</td>\n",
       "      <td>F/0/S</td>\n",
       "      <td>TRAPPIST-1e</td>\n",
       "      <td>24.0</td>\n",
       "      <td>False</td>\n",
       "      <td>109.0</td>\n",
       "      <td>9.0</td>\n",
       "      <td>25.0</td>\n",
       "      <td>549.0</td>\n",
       "      <td>44.0</td>\n",
       "      <td>Juanna Vines</td>\n",
       "      <td>True</td>\n",
       "    </tr>\n",
       "    <tr>\n",
       "      <th>2</th>\n",
       "      <td>0003_01</td>\n",
       "      <td>Europa</td>\n",
       "      <td>False</td>\n",
       "      <td>A/0/S</td>\n",
       "      <td>TRAPPIST-1e</td>\n",
       "      <td>58.0</td>\n",
       "      <td>True</td>\n",
       "      <td>43.0</td>\n",
       "      <td>3576.0</td>\n",
       "      <td>0.0</td>\n",
       "      <td>6715.0</td>\n",
       "      <td>49.0</td>\n",
       "      <td>Altark Susent</td>\n",
       "      <td>False</td>\n",
       "    </tr>\n",
       "    <tr>\n",
       "      <th>3</th>\n",
       "      <td>0003_02</td>\n",
       "      <td>Europa</td>\n",
       "      <td>False</td>\n",
       "      <td>A/0/S</td>\n",
       "      <td>TRAPPIST-1e</td>\n",
       "      <td>33.0</td>\n",
       "      <td>False</td>\n",
       "      <td>0.0</td>\n",
       "      <td>1283.0</td>\n",
       "      <td>371.0</td>\n",
       "      <td>3329.0</td>\n",
       "      <td>193.0</td>\n",
       "      <td>Solam Susent</td>\n",
       "      <td>False</td>\n",
       "    </tr>\n",
       "    <tr>\n",
       "      <th>4</th>\n",
       "      <td>0004_01</td>\n",
       "      <td>Earth</td>\n",
       "      <td>False</td>\n",
       "      <td>F/1/S</td>\n",
       "      <td>TRAPPIST-1e</td>\n",
       "      <td>16.0</td>\n",
       "      <td>False</td>\n",
       "      <td>303.0</td>\n",
       "      <td>70.0</td>\n",
       "      <td>151.0</td>\n",
       "      <td>565.0</td>\n",
       "      <td>2.0</td>\n",
       "      <td>Willy Santantines</td>\n",
       "      <td>True</td>\n",
       "    </tr>\n",
       "  </tbody>\n",
       "</table>\n",
       "</div>"
      ],
      "text/plain": [
       "  PassengerId HomePlanet CryoSleep  Cabin  Destination   Age    VIP  \\\n",
       "0     0001_01     Europa     False  B/0/P  TRAPPIST-1e  39.0  False   \n",
       "1     0002_01      Earth     False  F/0/S  TRAPPIST-1e  24.0  False   \n",
       "2     0003_01     Europa     False  A/0/S  TRAPPIST-1e  58.0   True   \n",
       "3     0003_02     Europa     False  A/0/S  TRAPPIST-1e  33.0  False   \n",
       "4     0004_01      Earth     False  F/1/S  TRAPPIST-1e  16.0  False   \n",
       "\n",
       "   RoomService  FoodCourt  ShoppingMall     Spa  VRDeck               Name  \\\n",
       "0          0.0        0.0           0.0     0.0     0.0    Maham Ofracculy   \n",
       "1        109.0        9.0          25.0   549.0    44.0       Juanna Vines   \n",
       "2         43.0     3576.0           0.0  6715.0    49.0      Altark Susent   \n",
       "3          0.0     1283.0         371.0  3329.0   193.0       Solam Susent   \n",
       "4        303.0       70.0         151.0   565.0     2.0  Willy Santantines   \n",
       "\n",
       "   Transported  \n",
       "0        False  \n",
       "1         True  \n",
       "2        False  \n",
       "3        False  \n",
       "4         True  "
      ]
     },
     "execution_count": 1,
     "metadata": {},
     "output_type": "execute_result"
    }
   ],
   "source": [
    "# import dependencies \n",
    "import pandas as pd\n",
    "import numpy as np\n",
    "import matplotlib.pyplot as plt\n",
    "import seaborn as sns\n",
    "from sklearn.model_selection import train_test_split\n",
    "from sklearn.preprocessing import StandardScaler, OneHotEncoder\n",
    "\n",
    "# import dataset\n",
    "test_path = 'data/test.csv'\n",
    "train_path = 'data/train.csv'\n",
    "train_df = pd.read_csv(train_path)\n",
    "test_df = pd.read_csv(test_path)\n",
    "\n",
    "train_df.head()\n"
   ]
  },
  {
   "cell_type": "markdown",
   "id": "5b6b06f1",
   "metadata": {},
   "source": [
    "Looking at the distribution of the categorical and numerical columns could be insightful going into our analysis as well as for predictive purposes. Going column by column, we'll look at distribution of unique values using bar charts and histograms. "
   ]
  },
  {
   "cell_type": "code",
   "execution_count": 2,
   "id": "75e6878f",
   "metadata": {},
   "outputs": [
    {
     "data": {
      "image/png": "[encoded data removed]",
      "text/plain": [
       "<Figure size 640x480 with 1 Axes>"
      ]
     },
     "metadata": {},
     "output_type": "display_data"
    }
   ],
   "source": [
    "# Home Planet\n",
    "train_df['HomePlanet'].value_counts().plot(kind='bar', title='Home Planet Distribution')\n",
    "plt.xlabel('Home Planet')\n",
    "plt.ylabel('Count')\n",
    "plt.show()\n"
   ]
  },
  {
   "cell_type": "code",
   "execution_count": 3,
   "id": "e216dbc9",
   "metadata": {},
   "outputs": [
    {
     "data": {
      "image/png": "[encoded data removed]",
      "text/plain": [
       "<Figure size 640x480 with 1 Axes>"
      ]
     },
     "metadata": {},
     "output_type": "display_data"
    }
   ],
   "source": [
    "# Destination\n",
    "train_df['Destination'].value_counts().plot(kind='bar', title='Destination Distribution')\n",
    "plt.xlabel('Destination')\n",
    "plt.ylabel('Count')\n",
    "plt.show()\n"
   ]
  },
  {
   "cell_type": "code",
   "execution_count": 4,
   "id": "a898c7fe",
   "metadata": {},
   "outputs": [
    {
     "data": {
      "image/png": "[encoded data removed]",
      "text/plain": [
       "<Figure size 640x480 with 1 Axes>"
      ]
     },
     "metadata": {},
     "output_type": "display_data"
    }
   ],
   "source": [
    "# Cryosleep\n",
    "train_df['CryoSleep'].value_counts().plot(kind='bar', title='CryoSleep Distribution')\n",
    "plt.xlabel('CryoSleep')\n",
    "plt.ylabel('Count')\n",
    "plt.show()\n"
   ]
  },
  {
   "cell_type": "code",
   "execution_count": 5,
   "id": "4e5d249c",
   "metadata": {},
   "outputs": [
    {
     "data": {
      "image/png": "[encoded data removed]",
      "text/plain": [
       "<Figure size 1000x600 with 1 Axes>"
      ]
     },
     "metadata": {},
     "output_type": "display_data"
    }
   ],
   "source": [
    "# Age\n",
    "plt.figure(figsize=(10, 6))\n",
    "sns.histplot(train_df['Age'].dropna(), bins=30, kde=True)\n",
    "plt.title('Age Distribution')\n",
    "plt.xlabel('Age')\n",
    "plt.ylabel('Count')\n",
    "plt.show()\n"
   ]
  },
  {
   "cell_type": "code",
   "execution_count": 6,
   "id": "c916c134",
   "metadata": {},
   "outputs": [
    {
     "data": {
      "image/png": "[encoded data removed]",
      "text/plain": [
       "<Figure size 640x480 with 1 Axes>"
      ]
     },
     "metadata": {},
     "output_type": "display_data"
    }
   ],
   "source": [
    "# VIP\n",
    "train_df['VIP'].value_counts().plot(kind='bar', title='VIP Distribution')\n",
    "plt.xlabel('VIP')\n",
    "plt.ylabel('Count')\n",
    "plt.show()\n"
   ]
  },
  {
   "cell_type": "markdown",
   "id": "fea3a7bf",
   "metadata": {},
   "source": [
    "Very large difference between VIP and non-VIP which could be insightful for prediction, but we will need to see what the proportions are before being able to make that decision. "
   ]
  },
  {
   "cell_type": "code",
   "execution_count": 7,
   "id": "39987296",
   "metadata": {},
   "outputs": [
    {
     "data": {
      "image/png": "[encoded data removed]",
      "text/plain": [
       "<Figure size 640x480 with 1 Axes>"
      ]
     },
     "metadata": {},
     "output_type": "display_data"
    }
   ],
   "source": [
    "sns.countplot(data=train_df, x='VIP', hue='Transported')\n",
    "plt.title('Transported Distribution by VIP Status')\n",
    "plt.xlabel('VIP')\n",
    "plt.ylabel('Count')\n",
    "plt.show()"
   ]
  },
  {
   "cell_type": "markdown",
   "id": "a395ec07",
   "metadata": {},
   "source": [
    "It seems that VIP status does not really matter as both VIP and non-VIP members are near evenly split. "
   ]
  },
  {
   "cell_type": "code",
   "execution_count": 8,
   "id": "4e5a90e6",
   "metadata": {},
   "outputs": [
    {
     "data": {
      "image/png": "[encoded data removed]",
      "text/plain": [
       "<Figure size 1000x600 with 1 Axes>"
      ]
     },
     "metadata": {},
     "output_type": "display_data"
    }
   ],
   "source": [
    "# VR Deck\n",
    "plt.figure(figsize=(10, 6))\n",
    "sns.histplot(train_df['VRDeck'].dropna(), bins=30, kde=True)\n",
    "plt.title('VR Deck Distribution')\n",
    "plt.xlabel('VR Deck')\n",
    "plt.ylabel('Amount')\n",
    "plt.show()\n"
   ]
  },
  {
   "cell_type": "code",
   "execution_count": 9,
   "id": "736dd882",
   "metadata": {},
   "outputs": [
    {
     "data": {
      "image/png": "[encoded data removed]",
      "text/plain": [
       "<Figure size 1000x600 with 1 Axes>"
      ]
     },
     "metadata": {},
     "output_type": "display_data"
    }
   ],
   "source": [
    "# SPA Deck\n",
    "plt.figure(figsize=(10, 6))\n",
    "sns.histplot(train_df['Spa'].dropna(), bins=30, kde=True)\n",
    "plt.title('SPA Deck Distribution')\n",
    "plt.xlabel('SPA Deck')\n",
    "plt.ylabel('Amount')\n",
    "plt.show()\n"
   ]
  },
  {
   "cell_type": "code",
   "execution_count": 10,
   "id": "37030099",
   "metadata": {},
   "outputs": [
    {
     "data": {
      "image/png": "[encoded data removed]",
      "text/plain": [
       "<Figure size 1000x600 with 1 Axes>"
      ]
     },
     "metadata": {},
     "output_type": "display_data"
    }
   ],
   "source": [
    "# Shopping Mall\n",
    "plt.figure(figsize=(10, 6))\n",
    "sns.histplot(train_df['ShoppingMall'].dropna(), bins=30, kde=True)\n",
    "plt.title('Shopping Mall Distribution')\n",
    "plt.xlabel('Shopping Mall')\n",
    "plt.ylabel('Amount')\n",
    "plt.show()"
   ]
  },
  {
   "cell_type": "code",
   "execution_count": 11,
   "id": "430e2c37",
   "metadata": {},
   "outputs": [
    {
     "data": {
      "image/png": "[encoded data removed]",
      "text/plain": [
       "<Figure size 1000x600 with 1 Axes>"
      ]
     },
     "metadata": {},
     "output_type": "display_data"
    }
   ],
   "source": [
    "# Room Service\n",
    "plt.figure(figsize=(10, 6))\n",
    "sns.histplot(train_df['RoomService'].dropna(), bins=30, kde=True)\n",
    "plt.title('Room Service Distribution')\n",
    "plt.xlabel('Room Service')\n",
    "plt.ylabel('Amount')\n",
    "plt.show()\n"
   ]
  },
  {
   "cell_type": "code",
   "execution_count": 12,
   "id": "0afc3c68",
   "metadata": {},
   "outputs": [
    {
     "data": {
      "image/png": "[encoded data removed]",
      "text/plain": [
       "<Figure size 1000x600 with 1 Axes>"
      ]
     },
     "metadata": {},
     "output_type": "display_data"
    }
   ],
   "source": [
    "# Food Court\n",
    "plt.figure(figsize=(10, 6))\n",
    "sns.histplot(train_df['FoodCourt'].dropna(), bins=30, kde=True)\n",
    "plt.title('Food Court Distribution')\n",
    "plt.xlabel('Food Court')\n",
    "plt.ylabel('Amount')\n",
    "plt.show()\n"
   ]
  },
  {
   "cell_type": "markdown",
   "id": "52efa887",
   "metadata": {},
   "source": [
    "We will want to look at the breakdown of empty values by column to see where we are missing data and determine if it matters or not. "
   ]
  },
  {
   "cell_type": "code",
   "execution_count": 13,
   "id": "52ea0e94",
   "metadata": {},
   "outputs": [
    {
     "data": {
      "image/png": "[encoded data removed]",
      "text/plain": [
       "<Figure size 1200x600 with 1 Axes>"
      ]
     },
     "metadata": {},
     "output_type": "display_data"
    }
   ],
   "source": [
    "plt.figure(figsize=(12, 6))\n",
    "sns.heatmap(train_df.isnull(), cbar=False, yticklabels=False, cmap='viridis')\n",
    "plt.title('Missing Values in Train Data by Column')\n",
    "plt.show()\n"
   ]
  },
  {
   "cell_type": "code",
   "execution_count": 14,
   "id": "32be729d",
   "metadata": {},
   "outputs": [
    {
     "name": "stdout",
     "output_type": "stream",
     "text": [
      "              Count   Percent\n",
      "CryoSleep       217  2.496261\n",
      "ShoppingMall    208  2.392730\n",
      "VIP             203  2.335212\n",
      "HomePlanet      201  2.312205\n",
      "Name            200  2.300702\n",
      "Cabin           199  2.289198\n",
      "VRDeck          188  2.162660\n",
      "Spa             183  2.105142\n",
      "FoodCourt       183  2.105142\n",
      "Destination     182  2.093639\n",
      "RoomService     181  2.082135\n",
      "Age             179  2.059128\n",
      "PassengerId       0  0.000000\n",
      "Transported       0  0.000000\n"
     ]
    }
   ],
   "source": [
    "null_counts = train_df.isnull().sum()\n",
    "null_percent = train_df.isnull().mean() * 100\n",
    "null_summary = pd.DataFrame({'Count': null_counts, 'Percent': null_percent})\n",
    "print(null_summary.sort_values(by='Percent', ascending=False))"
   ]
  },
  {
   "cell_type": "markdown",
   "id": "6cc6e9fb",
   "metadata": {},
   "source": [
    "Since all of the missing data is under 3% of the column total, we will use imputation to deal with the missing values. \n",
    "\n",
    "For numerical data, I'll use column median values to help mitigate outliers. For categorical data, I'll utilize a separate 'missing' value to account for these- I'll plan to change the boolean columns to string while treating like booleans with a third category. In addition, for numerical values I will incorporate a new column called '${column}_is_missing'. "
   ]
  },
  {
   "cell_type": "code",
   "execution_count": 15,
   "id": "b8af4b6d",
   "metadata": {},
   "outputs": [
    {
     "data": {
      "application/vnd.microsoft.datawrangler.viewer.v0+json": {
       "columns": [
        {
         "name": "index",
         "rawType": "object",
         "type": "string"
        },
        {
         "name": "0",
         "rawType": "object",
         "type": "unknown"
        }
       ],
       "ref": "f4659162-758e-4156-8a87-4a5c7c8517f7",
       "rows": [
        [
         "PassengerId",
         "object"
        ],
        [
         "HomePlanet",
         "object"
        ],
        [
         "CryoSleep",
         "object"
        ],
        [
         "Cabin",
         "object"
        ],
        [
         "Destination",
         "object"
        ],
        [
         "Age",
         "float64"
        ],
        [
         "VIP",
         "object"
        ],
        [
         "RoomService",
         "float64"
        ],
        [
         "FoodCourt",
         "float64"
        ],
        [
         "ShoppingMall",
         "float64"
        ],
        [
         "Spa",
         "float64"
        ],
        [
         "VRDeck",
         "float64"
        ],
        [
         "Name",
         "object"
        ],
        [
         "Transported",
         "bool"
        ]
       ],
       "shape": {
        "columns": 1,
        "rows": 14
       }
      },
      "text/plain": [
       "PassengerId      object\n",
       "HomePlanet       object\n",
       "CryoSleep        object\n",
       "Cabin            object\n",
       "Destination      object\n",
       "Age             float64\n",
       "VIP              object\n",
       "RoomService     float64\n",
       "FoodCourt       float64\n",
       "ShoppingMall    float64\n",
       "Spa             float64\n",
       "VRDeck          float64\n",
       "Name             object\n",
       "Transported        bool\n",
       "dtype: object"
      ]
     },
     "execution_count": 15,
     "metadata": {},
     "output_type": "execute_result"
    }
   ],
   "source": [
    "train_df.dtypes"
   ]
  },
  {
   "cell_type": "code",
   "execution_count": 16,
   "id": "7b9d152c",
   "metadata": {},
   "outputs": [
    {
     "data": {
      "application/vnd.microsoft.datawrangler.viewer.v0+json": {
       "columns": [
        {
         "name": "index",
         "rawType": "int64",
         "type": "integer"
        },
        {
         "name": "PassengerId",
         "rawType": "object",
         "type": "string"
        },
        {
         "name": "HomePlanet",
         "rawType": "object",
         "type": "string"
        },
        {
         "name": "CryoSleep",
         "rawType": "object",
         "type": "unknown"
        },
        {
         "name": "Cabin",
         "rawType": "object",
         "type": "string"
        },
        {
         "name": "Destination",
         "rawType": "object",
         "type": "string"
        },
        {
         "name": "Age",
         "rawType": "float64",
         "type": "float"
        },
        {
         "name": "VIP",
         "rawType": "object",
         "type": "unknown"
        },
        {
         "name": "RoomService",
         "rawType": "float64",
         "type": "float"
        },
        {
         "name": "FoodCourt",
         "rawType": "float64",
         "type": "float"
        },
        {
         "name": "ShoppingMall",
         "rawType": "float64",
         "type": "float"
        },
        {
         "name": "Spa",
         "rawType": "float64",
         "type": "float"
        },
        {
         "name": "VRDeck",
         "rawType": "float64",
         "type": "float"
        },
        {
         "name": "Name",
         "rawType": "object",
         "type": "string"
        },
        {
         "name": "Transported",
         "rawType": "bool",
         "type": "boolean"
        },
        {
         "name": "Age_is_missing",
         "rawType": "int64",
         "type": "integer"
        },
        {
         "name": "RoomService_is_missing",
         "rawType": "int64",
         "type": "integer"
        },
        {
         "name": "FoodCourt_is_missing",
         "rawType": "int64",
         "type": "integer"
        },
        {
         "name": "ShoppingMall_is_missing",
         "rawType": "int64",
         "type": "integer"
        },
        {
         "name": "Spa_is_missing",
         "rawType": "int64",
         "type": "integer"
        },
        {
         "name": "VRDeck_is_missing",
         "rawType": "int64",
         "type": "integer"
        }
       ],
       "ref": "df0d3e37-05f2-497f-8385-74020ba25557",
       "rows": [
        [
         "0",
         "0001_01",
         "Europa",
         "False",
         "B/0/P",
         "TRAPPIST-1e",
         "39.0",
         "False",
         "0.0",
         "0.0",
         "0.0",
         "0.0",
         "0.0",
         "Maham Ofracculy",
         "False",
         "0",
         "0",
         "0",
         "0",
         "0",
         "0"
        ],
        [
         "1",
         "0002_01",
         "Earth",
         "False",
         "F/0/S",
         "TRAPPIST-1e",
         "24.0",
         "False",
         "109.0",
         "9.0",
         "25.0",
         "549.0",
         "44.0",
         "Juanna Vines",
         "True",
         "0",
         "0",
         "0",
         "0",
         "0",
         "0"
        ],
        [
         "2",
         "0003_01",
         "Europa",
         "False",
         "A/0/S",
         "TRAPPIST-1e",
         "58.0",
         "True",
         "43.0",
         "3576.0",
         "0.0",
         "6715.0",
         "49.0",
         "Altark Susent",
         "False",
         "0",
         "0",
         "0",
         "0",
         "0",
         "0"
        ],
        [
         "3",
         "0003_02",
         "Europa",
         "False",
         "A/0/S",
         "TRAPPIST-1e",
         "33.0",
         "False",
         "0.0",
         "1283.0",
         "371.0",
         "3329.0",
         "193.0",
         "Solam Susent",
         "False",
         "0",
         "0",
         "0",
         "0",
         "0",
         "0"
        ],
        [
         "4",
         "0004_01",
         "Earth",
         "False",
         "F/1/S",
         "TRAPPIST-1e",
         "16.0",
         "False",
         "303.0",
         "70.0",
         "151.0",
         "565.0",
         "2.0",
         "Willy Santantines",
         "True",
         "0",
         "0",
         "0",
         "0",
         "0",
         "0"
        ]
       ],
       "shape": {
        "columns": 20,
        "rows": 5
       }
      },
      "text/html": [
       "<div>\n",
       "<style scoped>\n",
       "    .dataframe tbody tr th:only-of-type {\n",
       "        vertical-align: middle;\n",
       "    }\n",
       "\n",
       "    .dataframe tbody tr th {\n",
       "        vertical-align: top;\n",
       "    }\n",
       "\n",
       "    .dataframe thead th {\n",
       "        text-align: right;\n",
       "    }\n",
       "</style>\n",
       "<table border=\"1\" class=\"dataframe\">\n",
       "  <thead>\n",
       "    <tr style=\"text-align: right;\">\n",
       "      <th></th>\n",
       "      <th>PassengerId</th>\n",
       "      <th>HomePlanet</th>\n",
       "      <th>CryoSleep</th>\n",
       "      <th>Cabin</th>\n",
       "      <th>Destination</th>\n",
       "      <th>Age</th>\n",
       "      <th>VIP</th>\n",
       "      <th>RoomService</th>\n",
       "      <th>FoodCourt</th>\n",
       "      <th>ShoppingMall</th>\n",
       "      <th>Spa</th>\n",
       "      <th>VRDeck</th>\n",
       "      <th>Name</th>\n",
       "      <th>Transported</th>\n",
       "      <th>Age_is_missing</th>\n",
       "      <th>RoomService_is_missing</th>\n",
       "      <th>FoodCourt_is_missing</th>\n",
       "      <th>ShoppingMall_is_missing</th>\n",
       "      <th>Spa_is_missing</th>\n",
       "      <th>VRDeck_is_missing</th>\n",
       "    </tr>\n",
       "  </thead>\n",
       "  <tbody>\n",
       "    <tr>\n",
       "      <th>0</th>\n",
       "      <td>0001_01</td>\n",
       "      <td>Europa</td>\n",
       "      <td>False</td>\n",
       "      <td>B/0/P</td>\n",
       "      <td>TRAPPIST-1e</td>\n",
       "      <td>39.0</td>\n",
       "      <td>False</td>\n",
       "      <td>0.0</td>\n",
       "      <td>0.0</td>\n",
       "      <td>0.0</td>\n",
       "      <td>0.0</td>\n",
       "      <td>0.0</td>\n",
       "      <td>Maham Ofracculy</td>\n",
       "      <td>False</td>\n",
       "      <td>0</td>\n",
       "      <td>0</td>\n",
       "      <td>0</td>\n",
       "      <td>0</td>\n",
       "      <td>0</td>\n",
       "      <td>0</td>\n",
       "    </tr>\n",
       "    <tr>\n",
       "      <th>1</th>\n",
       "      <td>0002_01</td>\n",
       "      <td>Earth</td>\n",
       "      <td>False</td>\n",
       "      <td>F/0/S</td>\n",
       "      <td>TRAPPIST-1e</td>\n",
       "      <td>24.0</td>\n",
       "      <td>False</td>\n",
       "      <td>109.0</td>\n",
       "      <td>9.0</td>\n",
       "      <td>25.0</td>\n",
       "      <td>549.0</td>\n",
       "      <td>44.0</td>\n",
       "      <td>Juanna Vines</td>\n",
       "      <td>True</td>\n",
       "      <td>0</td>\n",
       "      <td>0</td>\n",
       "      <td>0</td>\n",
       "      <td>0</td>\n",
       "      <td>0</td>\n",
       "      <td>0</td>\n",
       "    </tr>\n",
       "    <tr>\n",
       "      <th>2</th>\n",
       "      <td>0003_01</td>\n",
       "      <td>Europa</td>\n",
       "      <td>False</td>\n",
       "      <td>A/0/S</td>\n",
       "      <td>TRAPPIST-1e</td>\n",
       "      <td>58.0</td>\n",
       "      <td>True</td>\n",
       "      <td>43.0</td>\n",
       "      <td>3576.0</td>\n",
       "      <td>0.0</td>\n",
       "      <td>6715.0</td>\n",
       "      <td>49.0</td>\n",
       "      <td>Altark Susent</td>\n",
       "      <td>False</td>\n",
       "      <td>0</td>\n",
       "      <td>0</td>\n",
       "      <td>0</td>\n",
       "      <td>0</td>\n",
       "      <td>0</td>\n",
       "      <td>0</td>\n",
       "    </tr>\n",
       "    <tr>\n",
       "      <th>3</th>\n",
       "      <td>0003_02</td>\n",
       "      <td>Europa</td>\n",
       "      <td>False</td>\n",
       "      <td>A/0/S</td>\n",
       "      <td>TRAPPIST-1e</td>\n",
       "      <td>33.0</td>\n",
       "      <td>False</td>\n",
       "      <td>0.0</td>\n",
       "      <td>1283.0</td>\n",
       "      <td>371.0</td>\n",
       "      <td>3329.0</td>\n",
       "      <td>193.0</td>\n",
       "      <td>Solam Susent</td>\n",
       "      <td>False</td>\n",
       "      <td>0</td>\n",
       "      <td>0</td>\n",
       "      <td>0</td>\n",
       "      <td>0</td>\n",
       "      <td>0</td>\n",
       "      <td>0</td>\n",
       "    </tr>\n",
       "    <tr>\n",
       "      <th>4</th>\n",
       "      <td>0004_01</td>\n",
       "      <td>Earth</td>\n",
       "      <td>False</td>\n",
       "      <td>F/1/S</td>\n",
       "      <td>TRAPPIST-1e</td>\n",
       "      <td>16.0</td>\n",
       "      <td>False</td>\n",
       "      <td>303.0</td>\n",
       "      <td>70.0</td>\n",
       "      <td>151.0</td>\n",
       "      <td>565.0</td>\n",
       "      <td>2.0</td>\n",
       "      <td>Willy Santantines</td>\n",
       "      <td>True</td>\n",
       "      <td>0</td>\n",
       "      <td>0</td>\n",
       "      <td>0</td>\n",
       "      <td>0</td>\n",
       "      <td>0</td>\n",
       "      <td>0</td>\n",
       "    </tr>\n",
       "  </tbody>\n",
       "</table>\n",
       "</div>"
      ],
      "text/plain": [
       "  PassengerId HomePlanet CryoSleep  Cabin  Destination   Age    VIP  \\\n",
       "0     0001_01     Europa     False  B/0/P  TRAPPIST-1e  39.0  False   \n",
       "1     0002_01      Earth     False  F/0/S  TRAPPIST-1e  24.0  False   \n",
       "2     0003_01     Europa     False  A/0/S  TRAPPIST-1e  58.0   True   \n",
       "3     0003_02     Europa     False  A/0/S  TRAPPIST-1e  33.0  False   \n",
       "4     0004_01      Earth     False  F/1/S  TRAPPIST-1e  16.0  False   \n",
       "\n",
       "   RoomService  FoodCourt  ShoppingMall     Spa  VRDeck               Name  \\\n",
       "0          0.0        0.0           0.0     0.0     0.0    Maham Ofracculy   \n",
       "1        109.0        9.0          25.0   549.0    44.0       Juanna Vines   \n",
       "2         43.0     3576.0           0.0  6715.0    49.0      Altark Susent   \n",
       "3          0.0     1283.0         371.0  3329.0   193.0       Solam Susent   \n",
       "4        303.0       70.0         151.0   565.0     2.0  Willy Santantines   \n",
       "\n",
       "   Transported  Age_is_missing  RoomService_is_missing  FoodCourt_is_missing  \\\n",
       "0        False               0                       0                     0   \n",
       "1         True               0                       0                     0   \n",
       "2        False               0                       0                     0   \n",
       "3        False               0                       0                     0   \n",
       "4         True               0                       0                     0   \n",
       "\n",
       "   ShoppingMall_is_missing  Spa_is_missing  VRDeck_is_missing  \n",
       "0                        0               0                  0  \n",
       "1                        0               0                  0  \n",
       "2                        0               0                  0  \n",
       "3                        0               0                  0  \n",
       "4                        0               0                  0  "
      ]
     },
     "execution_count": 16,
     "metadata": {},
     "output_type": "execute_result"
    }
   ],
   "source": [
    "\n",
    "num_cols = ['Age', 'RoomService', 'FoodCourt', 'ShoppingMall', 'Spa', 'VRDeck']\n",
    "for col in num_cols:\n",
    "    median_val = train_df[col].median()\n",
    "\n",
    "    train_df.fillna({col: median_val}, inplace=True)\n",
    "\n",
    "    train_df[f\"{col}_is_missing\"] = train_df[col].isnull().astype(int)\n",
    "train_df.head()"
   ]
  },
  {
   "cell_type": "code",
   "execution_count": 17,
   "id": "f448c0fd",
   "metadata": {},
   "outputs": [
    {
     "data": {
      "application/vnd.microsoft.datawrangler.viewer.v0+json": {
       "columns": [
        {
         "name": "index",
         "rawType": "int64",
         "type": "integer"
        },
        {
         "name": "PassengerId",
         "rawType": "object",
         "type": "string"
        },
        {
         "name": "HomePlanet",
         "rawType": "object",
         "type": "string"
        },
        {
         "name": "CryoSleep",
         "rawType": "object",
         "type": "unknown"
        },
        {
         "name": "Cabin",
         "rawType": "object",
         "type": "string"
        },
        {
         "name": "Destination",
         "rawType": "object",
         "type": "string"
        },
        {
         "name": "Age",
         "rawType": "float64",
         "type": "float"
        },
        {
         "name": "VIP",
         "rawType": "object",
         "type": "unknown"
        },
        {
         "name": "RoomService",
         "rawType": "float64",
         "type": "float"
        },
        {
         "name": "FoodCourt",
         "rawType": "float64",
         "type": "float"
        },
        {
         "name": "ShoppingMall",
         "rawType": "float64",
         "type": "float"
        },
        {
         "name": "Spa",
         "rawType": "float64",
         "type": "float"
        },
        {
         "name": "VRDeck",
         "rawType": "float64",
         "type": "float"
        },
        {
         "name": "Name",
         "rawType": "object",
         "type": "string"
        },
        {
         "name": "Transported",
         "rawType": "bool",
         "type": "boolean"
        },
        {
         "name": "Age_is_missing",
         "rawType": "int64",
         "type": "integer"
        },
        {
         "name": "RoomService_is_missing",
         "rawType": "int64",
         "type": "integer"
        },
        {
         "name": "FoodCourt_is_missing",
         "rawType": "int64",
         "type": "integer"
        },
        {
         "name": "ShoppingMall_is_missing",
         "rawType": "int64",
         "type": "integer"
        },
        {
         "name": "Spa_is_missing",
         "rawType": "int64",
         "type": "integer"
        },
        {
         "name": "VRDeck_is_missing",
         "rawType": "int64",
         "type": "integer"
        }
       ],
       "ref": "6201f0f9-f15d-4ad7-832e-b383632b0dd9",
       "rows": [
        [
         "0",
         "0001_01",
         "Europa",
         "False",
         "B/0/P",
         "TRAPPIST-1e",
         "39.0",
         "False",
         "0.0",
         "0.0",
         "0.0",
         "0.0",
         "0.0",
         "Maham Ofracculy",
         "False",
         "0",
         "0",
         "0",
         "0",
         "0",
         "0"
        ],
        [
         "1",
         "0002_01",
         "Earth",
         "False",
         "F/0/S",
         "TRAPPIST-1e",
         "24.0",
         "False",
         "109.0",
         "9.0",
         "25.0",
         "549.0",
         "44.0",
         "Juanna Vines",
         "True",
         "0",
         "0",
         "0",
         "0",
         "0",
         "0"
        ],
        [
         "2",
         "0003_01",
         "Europa",
         "False",
         "A/0/S",
         "TRAPPIST-1e",
         "58.0",
         "True",
         "43.0",
         "3576.0",
         "0.0",
         "6715.0",
         "49.0",
         "Altark Susent",
         "False",
         "0",
         "0",
         "0",
         "0",
         "0",
         "0"
        ],
        [
         "3",
         "0003_02",
         "Europa",
         "False",
         "A/0/S",
         "TRAPPIST-1e",
         "33.0",
         "False",
         "0.0",
         "1283.0",
         "371.0",
         "3329.0",
         "193.0",
         "Solam Susent",
         "False",
         "0",
         "0",
         "0",
         "0",
         "0",
         "0"
        ],
        [
         "4",
         "0004_01",
         "Earth",
         "False",
         "F/1/S",
         "TRAPPIST-1e",
         "16.0",
         "False",
         "303.0",
         "70.0",
         "151.0",
         "565.0",
         "2.0",
         "Willy Santantines",
         "True",
         "0",
         "0",
         "0",
         "0",
         "0",
         "0"
        ]
       ],
       "shape": {
        "columns": 20,
        "rows": 5
       }
      },
      "text/html": [
       "<div>\n",
       "<style scoped>\n",
       "    .dataframe tbody tr th:only-of-type {\n",
       "        vertical-align: middle;\n",
       "    }\n",
       "\n",
       "    .dataframe tbody tr th {\n",
       "        vertical-align: top;\n",
       "    }\n",
       "\n",
       "    .dataframe thead th {\n",
       "        text-align: right;\n",
       "    }\n",
       "</style>\n",
       "<table border=\"1\" class=\"dataframe\">\n",
       "  <thead>\n",
       "    <tr style=\"text-align: right;\">\n",
       "      <th></th>\n",
       "      <th>PassengerId</th>\n",
       "      <th>HomePlanet</th>\n",
       "      <th>CryoSleep</th>\n",
       "      <th>Cabin</th>\n",
       "      <th>Destination</th>\n",
       "      <th>Age</th>\n",
       "      <th>VIP</th>\n",
       "      <th>RoomService</th>\n",
       "      <th>FoodCourt</th>\n",
       "      <th>ShoppingMall</th>\n",
       "      <th>Spa</th>\n",
       "      <th>VRDeck</th>\n",
       "      <th>Name</th>\n",
       "      <th>Transported</th>\n",
       "      <th>Age_is_missing</th>\n",
       "      <th>RoomService_is_missing</th>\n",
       "      <th>FoodCourt_is_missing</th>\n",
       "      <th>ShoppingMall_is_missing</th>\n",
       "      <th>Spa_is_missing</th>\n",
       "      <th>VRDeck_is_missing</th>\n",
       "    </tr>\n",
       "  </thead>\n",
       "  <tbody>\n",
       "    <tr>\n",
       "      <th>0</th>\n",
       "      <td>0001_01</td>\n",
       "      <td>Europa</td>\n",
       "      <td>False</td>\n",
       "      <td>B/0/P</td>\n",
       "      <td>TRAPPIST-1e</td>\n",
       "      <td>39.0</td>\n",
       "      <td>False</td>\n",
       "      <td>0.0</td>\n",
       "      <td>0.0</td>\n",
       "      <td>0.0</td>\n",
       "      <td>0.0</td>\n",
       "      <td>0.0</td>\n",
       "      <td>Maham Ofracculy</td>\n",
       "      <td>False</td>\n",
       "      <td>0</td>\n",
       "      <td>0</td>\n",
       "      <td>0</td>\n",
       "      <td>0</td>\n",
       "      <td>0</td>\n",
       "      <td>0</td>\n",
       "    </tr>\n",
       "    <tr>\n",
       "      <th>1</th>\n",
       "      <td>0002_01</td>\n",
       "      <td>Earth</td>\n",
       "      <td>False</td>\n",
       "      <td>F/0/S</td>\n",
       "      <td>TRAPPIST-1e</td>\n",
       "      <td>24.0</td>\n",
       "      <td>False</td>\n",
       "      <td>109.0</td>\n",
       "      <td>9.0</td>\n",
       "      <td>25.0</td>\n",
       "      <td>549.0</td>\n",
       "      <td>44.0</td>\n",
       "      <td>Juanna Vines</td>\n",
       "      <td>True</td>\n",
       "      <td>0</td>\n",
       "      <td>0</td>\n",
       "      <td>0</td>\n",
       "      <td>0</td>\n",
       "      <td>0</td>\n",
       "      <td>0</td>\n",
       "    </tr>\n",
       "    <tr>\n",
       "      <th>2</th>\n",
       "      <td>0003_01</td>\n",
       "      <td>Europa</td>\n",
       "      <td>False</td>\n",
       "      <td>A/0/S</td>\n",
       "      <td>TRAPPIST-1e</td>\n",
       "      <td>58.0</td>\n",
       "      <td>True</td>\n",
       "      <td>43.0</td>\n",
       "      <td>3576.0</td>\n",
       "      <td>0.0</td>\n",
       "      <td>6715.0</td>\n",
       "      <td>49.0</td>\n",
       "      <td>Altark Susent</td>\n",
       "      <td>False</td>\n",
       "      <td>0</td>\n",
       "      <td>0</td>\n",
       "      <td>0</td>\n",
       "      <td>0</td>\n",
       "      <td>0</td>\n",
       "      <td>0</td>\n",
       "    </tr>\n",
       "    <tr>\n",
       "      <th>3</th>\n",
       "      <td>0003_02</td>\n",
       "      <td>Europa</td>\n",
       "      <td>False</td>\n",
       "      <td>A/0/S</td>\n",
       "      <td>TRAPPIST-1e</td>\n",
       "      <td>33.0</td>\n",
       "      <td>False</td>\n",
       "      <td>0.0</td>\n",
       "      <td>1283.0</td>\n",
       "      <td>371.0</td>\n",
       "      <td>3329.0</td>\n",
       "      <td>193.0</td>\n",
       "      <td>Solam Susent</td>\n",
       "      <td>False</td>\n",
       "      <td>0</td>\n",
       "      <td>0</td>\n",
       "      <td>0</td>\n",
       "      <td>0</td>\n",
       "      <td>0</td>\n",
       "      <td>0</td>\n",
       "    </tr>\n",
       "    <tr>\n",
       "      <th>4</th>\n",
       "      <td>0004_01</td>\n",
       "      <td>Earth</td>\n",
       "      <td>False</td>\n",
       "      <td>F/1/S</td>\n",
       "      <td>TRAPPIST-1e</td>\n",
       "      <td>16.0</td>\n",
       "      <td>False</td>\n",
       "      <td>303.0</td>\n",
       "      <td>70.0</td>\n",
       "      <td>151.0</td>\n",
       "      <td>565.0</td>\n",
       "      <td>2.0</td>\n",
       "      <td>Willy Santantines</td>\n",
       "      <td>True</td>\n",
       "      <td>0</td>\n",
       "      <td>0</td>\n",
       "      <td>0</td>\n",
       "      <td>0</td>\n",
       "      <td>0</td>\n",
       "      <td>0</td>\n",
       "    </tr>\n",
       "  </tbody>\n",
       "</table>\n",
       "</div>"
      ],
      "text/plain": [
       "  PassengerId HomePlanet CryoSleep  Cabin  Destination   Age    VIP  \\\n",
       "0     0001_01     Europa     False  B/0/P  TRAPPIST-1e  39.0  False   \n",
       "1     0002_01      Earth     False  F/0/S  TRAPPIST-1e  24.0  False   \n",
       "2     0003_01     Europa     False  A/0/S  TRAPPIST-1e  58.0   True   \n",
       "3     0003_02     Europa     False  A/0/S  TRAPPIST-1e  33.0  False   \n",
       "4     0004_01      Earth     False  F/1/S  TRAPPIST-1e  16.0  False   \n",
       "\n",
       "   RoomService  FoodCourt  ShoppingMall     Spa  VRDeck               Name  \\\n",
       "0          0.0        0.0           0.0     0.0     0.0    Maham Ofracculy   \n",
       "1        109.0        9.0          25.0   549.0    44.0       Juanna Vines   \n",
       "2         43.0     3576.0           0.0  6715.0    49.0      Altark Susent   \n",
       "3          0.0     1283.0         371.0  3329.0   193.0       Solam Susent   \n",
       "4        303.0       70.0         151.0   565.0     2.0  Willy Santantines   \n",
       "\n",
       "   Transported  Age_is_missing  RoomService_is_missing  FoodCourt_is_missing  \\\n",
       "0        False               0                       0                     0   \n",
       "1         True               0                       0                     0   \n",
       "2        False               0                       0                     0   \n",
       "3        False               0                       0                     0   \n",
       "4         True               0                       0                     0   \n",
       "\n",
       "   ShoppingMall_is_missing  Spa_is_missing  VRDeck_is_missing  \n",
       "0                        0               0                  0  \n",
       "1                        0               0                  0  \n",
       "2                        0               0                  0  \n",
       "3                        0               0                  0  \n",
       "4                        0               0                  0  "
      ]
     },
     "execution_count": 17,
     "metadata": {},
     "output_type": "execute_result"
    }
   ],
   "source": [
    "cat_cols = ['HomePlanet', 'CryoSleep', 'Cabin', 'Destination', 'VIP']\n",
    "train_df[cat_cols] = train_df[cat_cols].fillna('missing')\n",
    "train_df.head()"
   ]
  },
  {
   "cell_type": "markdown",
   "id": "e59a4d77",
   "metadata": {},
   "source": [
    "## Feature Engineering\n",
    "\n",
    "Having looked at distribution of values in the different columns and dealt with missing fields, I'm going to move into a phase of creating new lower-level features from the high-level features we already have. These lower-level features will be: \n",
    "* group number - from passenger id\n",
    "* number_within_group - from passenger_id\n",
    "* deck - from cabin \n",
    "* num - from cabin\n",
    "* side - from cabin\n",
    "* age groups - create buckets for different age ranges\n",
    "* high spender - based on total spend per row\n",
    "* spending group - based on total spend per row\n",
    "* last_name - from name\n",
    "\n",
    "These will give us more granularity in the data which could help our models pinpoint significance in predictibility. "
   ]
  },
  {
   "cell_type": "code",
   "execution_count": 18,
   "id": "82e10406",
   "metadata": {},
   "outputs": [
    {
     "data": {
      "application/vnd.microsoft.datawrangler.viewer.v0+json": {
       "columns": [
        {
         "name": "index",
         "rawType": "int64",
         "type": "integer"
        },
        {
         "name": "PassengerId",
         "rawType": "object",
         "type": "string"
        },
        {
         "name": "HomePlanet",
         "rawType": "object",
         "type": "string"
        },
        {
         "name": "CryoSleep",
         "rawType": "object",
         "type": "unknown"
        },
        {
         "name": "Cabin",
         "rawType": "object",
         "type": "string"
        },
        {
         "name": "Destination",
         "rawType": "object",
         "type": "string"
        },
        {
         "name": "Age",
         "rawType": "float64",
         "type": "float"
        },
        {
         "name": "VIP",
         "rawType": "object",
         "type": "unknown"
        },
        {
         "name": "RoomService",
         "rawType": "float64",
         "type": "float"
        },
        {
         "name": "FoodCourt",
         "rawType": "float64",
         "type": "float"
        },
        {
         "name": "ShoppingMall",
         "rawType": "float64",
         "type": "float"
        },
        {
         "name": "Spa",
         "rawType": "float64",
         "type": "float"
        },
        {
         "name": "VRDeck",
         "rawType": "float64",
         "type": "float"
        },
        {
         "name": "Name",
         "rawType": "object",
         "type": "string"
        },
        {
         "name": "Transported",
         "rawType": "bool",
         "type": "boolean"
        },
        {
         "name": "Age_is_missing",
         "rawType": "int64",
         "type": "integer"
        },
        {
         "name": "RoomService_is_missing",
         "rawType": "int64",
         "type": "integer"
        },
        {
         "name": "FoodCourt_is_missing",
         "rawType": "int64",
         "type": "integer"
        },
        {
         "name": "ShoppingMall_is_missing",
         "rawType": "int64",
         "type": "integer"
        },
        {
         "name": "Spa_is_missing",
         "rawType": "int64",
         "type": "integer"
        },
        {
         "name": "VRDeck_is_missing",
         "rawType": "int64",
         "type": "integer"
        },
        {
         "name": "group_number",
         "rawType": "int64",
         "type": "integer"
        },
        {
         "name": "number_within_group",
         "rawType": "int64",
         "type": "integer"
        }
       ],
       "ref": "36bf1586-b3c0-4b6b-97b8-f311c490681d",
       "rows": [
        [
         "0",
         "0001_01",
         "Europa",
         "False",
         "B/0/P",
         "TRAPPIST-1e",
         "39.0",
         "False",
         "0.0",
         "0.0",
         "0.0",
         "0.0",
         "0.0",
         "Maham Ofracculy",
         "False",
         "0",
         "0",
         "0",
         "0",
         "0",
         "0",
         "1",
         "1"
        ],
        [
         "1",
         "0002_01",
         "Earth",
         "False",
         "F/0/S",
         "TRAPPIST-1e",
         "24.0",
         "False",
         "109.0",
         "9.0",
         "25.0",
         "549.0",
         "44.0",
         "Juanna Vines",
         "True",
         "0",
         "0",
         "0",
         "0",
         "0",
         "0",
         "2",
         "1"
        ],
        [
         "2",
         "0003_01",
         "Europa",
         "False",
         "A/0/S",
         "TRAPPIST-1e",
         "58.0",
         "True",
         "43.0",
         "3576.0",
         "0.0",
         "6715.0",
         "49.0",
         "Altark Susent",
         "False",
         "0",
         "0",
         "0",
         "0",
         "0",
         "0",
         "3",
         "1"
        ],
        [
         "3",
         "0003_02",
         "Europa",
         "False",
         "A/0/S",
         "TRAPPIST-1e",
         "33.0",
         "False",
         "0.0",
         "1283.0",
         "371.0",
         "3329.0",
         "193.0",
         "Solam Susent",
         "False",
         "0",
         "0",
         "0",
         "0",
         "0",
         "0",
         "3",
         "2"
        ],
        [
         "4",
         "0004_01",
         "Earth",
         "False",
         "F/1/S",
         "TRAPPIST-1e",
         "16.0",
         "False",
         "303.0",
         "70.0",
         "151.0",
         "565.0",
         "2.0",
         "Willy Santantines",
         "True",
         "0",
         "0",
         "0",
         "0",
         "0",
         "0",
         "4",
         "1"
        ]
       ],
       "shape": {
        "columns": 22,
        "rows": 5
       }
      },
      "text/html": [
       "<div>\n",
       "<style scoped>\n",
       "    .dataframe tbody tr th:only-of-type {\n",
       "        vertical-align: middle;\n",
       "    }\n",
       "\n",
       "    .dataframe tbody tr th {\n",
       "        vertical-align: top;\n",
       "    }\n",
       "\n",
       "    .dataframe thead th {\n",
       "        text-align: right;\n",
       "    }\n",
       "</style>\n",
       "<table border=\"1\" class=\"dataframe\">\n",
       "  <thead>\n",
       "    <tr style=\"text-align: right;\">\n",
       "      <th></th>\n",
       "      <th>PassengerId</th>\n",
       "      <th>HomePlanet</th>\n",
       "      <th>CryoSleep</th>\n",
       "      <th>Cabin</th>\n",
       "      <th>Destination</th>\n",
       "      <th>Age</th>\n",
       "      <th>VIP</th>\n",
       "      <th>RoomService</th>\n",
       "      <th>FoodCourt</th>\n",
       "      <th>ShoppingMall</th>\n",
       "      <th>...</th>\n",
       "      <th>Name</th>\n",
       "      <th>Transported</th>\n",
       "      <th>Age_is_missing</th>\n",
       "      <th>RoomService_is_missing</th>\n",
       "      <th>FoodCourt_is_missing</th>\n",
       "      <th>ShoppingMall_is_missing</th>\n",
       "      <th>Spa_is_missing</th>\n",
       "      <th>VRDeck_is_missing</th>\n",
       "      <th>group_number</th>\n",
       "      <th>number_within_group</th>\n",
       "    </tr>\n",
       "  </thead>\n",
       "  <tbody>\n",
       "    <tr>\n",
       "      <th>0</th>\n",
       "      <td>0001_01</td>\n",
       "      <td>Europa</td>\n",
       "      <td>False</td>\n",
       "      <td>B/0/P</td>\n",
       "      <td>TRAPPIST-1e</td>\n",
       "      <td>39.0</td>\n",
       "      <td>False</td>\n",
       "      <td>0.0</td>\n",
       "      <td>0.0</td>\n",
       "      <td>0.0</td>\n",
       "      <td>...</td>\n",
       "      <td>Maham Ofracculy</td>\n",
       "      <td>False</td>\n",
       "      <td>0</td>\n",
       "      <td>0</td>\n",
       "      <td>0</td>\n",
       "      <td>0</td>\n",
       "      <td>0</td>\n",
       "      <td>0</td>\n",
       "      <td>1</td>\n",
       "      <td>1</td>\n",
       "    </tr>\n",
       "    <tr>\n",
       "      <th>1</th>\n",
       "      <td>0002_01</td>\n",
       "      <td>Earth</td>\n",
       "      <td>False</td>\n",
       "      <td>F/0/S</td>\n",
       "      <td>TRAPPIST-1e</td>\n",
       "      <td>24.0</td>\n",
       "      <td>False</td>\n",
       "      <td>109.0</td>\n",
       "      <td>9.0</td>\n",
       "      <td>25.0</td>\n",
       "      <td>...</td>\n",
       "      <td>Juanna Vines</td>\n",
       "      <td>True</td>\n",
       "      <td>0</td>\n",
       "      <td>0</td>\n",
       "      <td>0</td>\n",
       "      <td>0</td>\n",
       "      <td>0</td>\n",
       "      <td>0</td>\n",
       "      <td>2</td>\n",
       "      <td>1</td>\n",
       "    </tr>\n",
       "    <tr>\n",
       "      <th>2</th>\n",
       "      <td>0003_01</td>\n",
       "      <td>Europa</td>\n",
       "      <td>False</td>\n",
       "      <td>A/0/S</td>\n",
       "      <td>TRAPPIST-1e</td>\n",
       "      <td>58.0</td>\n",
       "      <td>True</td>\n",
       "      <td>43.0</td>\n",
       "      <td>3576.0</td>\n",
       "      <td>0.0</td>\n",
       "      <td>...</td>\n",
       "      <td>Altark Susent</td>\n",
       "      <td>False</td>\n",
       "      <td>0</td>\n",
       "      <td>0</td>\n",
       "      <td>0</td>\n",
       "      <td>0</td>\n",
       "      <td>0</td>\n",
       "      <td>0</td>\n",
       "      <td>3</td>\n",
       "      <td>1</td>\n",
       "    </tr>\n",
       "    <tr>\n",
       "      <th>3</th>\n",
       "      <td>0003_02</td>\n",
       "      <td>Europa</td>\n",
       "      <td>False</td>\n",
       "      <td>A/0/S</td>\n",
       "      <td>TRAPPIST-1e</td>\n",
       "      <td>33.0</td>\n",
       "      <td>False</td>\n",
       "      <td>0.0</td>\n",
       "      <td>1283.0</td>\n",
       "      <td>371.0</td>\n",
       "      <td>...</td>\n",
       "      <td>Solam Susent</td>\n",
       "      <td>False</td>\n",
       "      <td>0</td>\n",
       "      <td>0</td>\n",
       "      <td>0</td>\n",
       "      <td>0</td>\n",
       "      <td>0</td>\n",
       "      <td>0</td>\n",
       "      <td>3</td>\n",
       "      <td>2</td>\n",
       "    </tr>\n",
       "    <tr>\n",
       "      <th>4</th>\n",
       "      <td>0004_01</td>\n",
       "      <td>Earth</td>\n",
       "      <td>False</td>\n",
       "      <td>F/1/S</td>\n",
       "      <td>TRAPPIST-1e</td>\n",
       "      <td>16.0</td>\n",
       "      <td>False</td>\n",
       "      <td>303.0</td>\n",
       "      <td>70.0</td>\n",
       "      <td>151.0</td>\n",
       "      <td>...</td>\n",
       "      <td>Willy Santantines</td>\n",
       "      <td>True</td>\n",
       "      <td>0</td>\n",
       "      <td>0</td>\n",
       "      <td>0</td>\n",
       "      <td>0</td>\n",
       "      <td>0</td>\n",
       "      <td>0</td>\n",
       "      <td>4</td>\n",
       "      <td>1</td>\n",
       "    </tr>\n",
       "  </tbody>\n",
       "</table>\n",
       "<p>5 rows × 22 columns</p>\n",
       "</div>"
      ],
      "text/plain": [
       "  PassengerId HomePlanet CryoSleep  Cabin  Destination   Age    VIP  \\\n",
       "0     0001_01     Europa     False  B/0/P  TRAPPIST-1e  39.0  False   \n",
       "1     0002_01      Earth     False  F/0/S  TRAPPIST-1e  24.0  False   \n",
       "2     0003_01     Europa     False  A/0/S  TRAPPIST-1e  58.0   True   \n",
       "3     0003_02     Europa     False  A/0/S  TRAPPIST-1e  33.0  False   \n",
       "4     0004_01      Earth     False  F/1/S  TRAPPIST-1e  16.0  False   \n",
       "\n",
       "   RoomService  FoodCourt  ShoppingMall  ...               Name  Transported  \\\n",
       "0          0.0        0.0           0.0  ...    Maham Ofracculy        False   \n",
       "1        109.0        9.0          25.0  ...       Juanna Vines         True   \n",
       "2         43.0     3576.0           0.0  ...      Altark Susent        False   \n",
       "3          0.0     1283.0         371.0  ...       Solam Susent        False   \n",
       "4        303.0       70.0         151.0  ...  Willy Santantines         True   \n",
       "\n",
       "  Age_is_missing  RoomService_is_missing  FoodCourt_is_missing  \\\n",
       "0              0                       0                     0   \n",
       "1              0                       0                     0   \n",
       "2              0                       0                     0   \n",
       "3              0                       0                     0   \n",
       "4              0                       0                     0   \n",
       "\n",
       "   ShoppingMall_is_missing  Spa_is_missing  VRDeck_is_missing  group_number  \\\n",
       "0                        0               0                  0             1   \n",
       "1                        0               0                  0             2   \n",
       "2                        0               0                  0             3   \n",
       "3                        0               0                  0             3   \n",
       "4                        0               0                  0             4   \n",
       "\n",
       "   number_within_group  \n",
       "0                    1  \n",
       "1                    1  \n",
       "2                    1  \n",
       "3                    2  \n",
       "4                    1  \n",
       "\n",
       "[5 rows x 22 columns]"
      ]
     },
     "execution_count": 18,
     "metadata": {},
     "output_type": "execute_result"
    }
   ],
   "source": [
    "train_df['group_number'] = train_df['PassengerId'].apply(lambda x: int(x.split('_')[0]))\n",
    "train_df['number_within_group'] = train_df['PassengerId'].apply(lambda x: int(x.split('_')[1]))\n",
    "train_df.head()"
   ]
  },
  {
   "cell_type": "code",
   "execution_count": 19,
   "id": "f2097e26",
   "metadata": {},
   "outputs": [
    {
     "data": {
      "application/vnd.microsoft.datawrangler.viewer.v0+json": {
       "columns": [
        {
         "name": "index",
         "rawType": "int64",
         "type": "integer"
        },
        {
         "name": "PassengerId",
         "rawType": "object",
         "type": "string"
        },
        {
         "name": "HomePlanet",
         "rawType": "object",
         "type": "string"
        },
        {
         "name": "CryoSleep",
         "rawType": "object",
         "type": "unknown"
        },
        {
         "name": "Cabin",
         "rawType": "object",
         "type": "string"
        },
        {
         "name": "Destination",
         "rawType": "object",
         "type": "string"
        },
        {
         "name": "Age",
         "rawType": "float64",
         "type": "float"
        },
        {
         "name": "VIP",
         "rawType": "object",
         "type": "unknown"
        },
        {
         "name": "RoomService",
         "rawType": "float64",
         "type": "float"
        },
        {
         "name": "FoodCourt",
         "rawType": "float64",
         "type": "float"
        },
        {
         "name": "ShoppingMall",
         "rawType": "float64",
         "type": "float"
        },
        {
         "name": "Spa",
         "rawType": "float64",
         "type": "float"
        },
        {
         "name": "VRDeck",
         "rawType": "float64",
         "type": "float"
        },
        {
         "name": "Name",
         "rawType": "object",
         "type": "string"
        },
        {
         "name": "Transported",
         "rawType": "bool",
         "type": "boolean"
        },
        {
         "name": "Age_is_missing",
         "rawType": "int64",
         "type": "integer"
        },
        {
         "name": "RoomService_is_missing",
         "rawType": "int64",
         "type": "integer"
        },
        {
         "name": "FoodCourt_is_missing",
         "rawType": "int64",
         "type": "integer"
        },
        {
         "name": "ShoppingMall_is_missing",
         "rawType": "int64",
         "type": "integer"
        },
        {
         "name": "Spa_is_missing",
         "rawType": "int64",
         "type": "integer"
        },
        {
         "name": "VRDeck_is_missing",
         "rawType": "int64",
         "type": "integer"
        },
        {
         "name": "group_number",
         "rawType": "int64",
         "type": "integer"
        },
        {
         "name": "number_within_group",
         "rawType": "int64",
         "type": "integer"
        },
        {
         "name": "cabin_deck",
         "rawType": "object",
         "type": "string"
        },
        {
         "name": "cabin_num",
         "rawType": "int64",
         "type": "integer"
        },
        {
         "name": "cabin_side",
         "rawType": "object",
         "type": "string"
        }
       ],
       "ref": "451595be-3107-44cc-80db-8cbf9b2093c4",
       "rows": [
        [
         "0",
         "0001_01",
         "Europa",
         "False",
         "B/0/P",
         "TRAPPIST-1e",
         "39.0",
         "False",
         "0.0",
         "0.0",
         "0.0",
         "0.0",
         "0.0",
         "Maham Ofracculy",
         "False",
         "0",
         "0",
         "0",
         "0",
         "0",
         "0",
         "1",
         "1",
         "B",
         "0",
         "P"
        ],
        [
         "1",
         "0002_01",
         "Earth",
         "False",
         "F/0/S",
         "TRAPPIST-1e",
         "24.0",
         "False",
         "109.0",
         "9.0",
         "25.0",
         "549.0",
         "44.0",
         "Juanna Vines",
         "True",
         "0",
         "0",
         "0",
         "0",
         "0",
         "0",
         "2",
         "1",
         "F",
         "0",
         "S"
        ],
        [
         "2",
         "0003_01",
         "Europa",
         "False",
         "A/0/S",
         "TRAPPIST-1e",
         "58.0",
         "True",
         "43.0",
         "3576.0",
         "0.0",
         "6715.0",
         "49.0",
         "Altark Susent",
         "False",
         "0",
         "0",
         "0",
         "0",
         "0",
         "0",
         "3",
         "1",
         "A",
         "0",
         "S"
        ],
        [
         "3",
         "0003_02",
         "Europa",
         "False",
         "A/0/S",
         "TRAPPIST-1e",
         "33.0",
         "False",
         "0.0",
         "1283.0",
         "371.0",
         "3329.0",
         "193.0",
         "Solam Susent",
         "False",
         "0",
         "0",
         "0",
         "0",
         "0",
         "0",
         "3",
         "2",
         "A",
         "0",
         "S"
        ],
        [
         "4",
         "0004_01",
         "Earth",
         "False",
         "F/1/S",
         "TRAPPIST-1e",
         "16.0",
         "False",
         "303.0",
         "70.0",
         "151.0",
         "565.0",
         "2.0",
         "Willy Santantines",
         "True",
         "0",
         "0",
         "0",
         "0",
         "0",
         "0",
         "4",
         "1",
         "F",
         "1",
         "S"
        ]
       ],
       "shape": {
        "columns": 25,
        "rows": 5
       }
      },
      "text/html": [
       "<div>\n",
       "<style scoped>\n",
       "    .dataframe tbody tr th:only-of-type {\n",
       "        vertical-align: middle;\n",
       "    }\n",
       "\n",
       "    .dataframe tbody tr th {\n",
       "        vertical-align: top;\n",
       "    }\n",
       "\n",
       "    .dataframe thead th {\n",
       "        text-align: right;\n",
       "    }\n",
       "</style>\n",
       "<table border=\"1\" class=\"dataframe\">\n",
       "  <thead>\n",
       "    <tr style=\"text-align: right;\">\n",
       "      <th></th>\n",
       "      <th>PassengerId</th>\n",
       "      <th>HomePlanet</th>\n",
       "      <th>CryoSleep</th>\n",
       "      <th>Cabin</th>\n",
       "      <th>Destination</th>\n",
       "      <th>Age</th>\n",
       "      <th>VIP</th>\n",
       "      <th>RoomService</th>\n",
       "      <th>FoodCourt</th>\n",
       "      <th>ShoppingMall</th>\n",
       "      <th>...</th>\n",
       "      <th>RoomService_is_missing</th>\n",
       "      <th>FoodCourt_is_missing</th>\n",
       "      <th>ShoppingMall_is_missing</th>\n",
       "      <th>Spa_is_missing</th>\n",
       "      <th>VRDeck_is_missing</th>\n",
       "      <th>group_number</th>\n",
       "      <th>number_within_group</th>\n",
       "      <th>cabin_deck</th>\n",
       "      <th>cabin_num</th>\n",
       "      <th>cabin_side</th>\n",
       "    </tr>\n",
       "  </thead>\n",
       "  <tbody>\n",
       "    <tr>\n",
       "      <th>0</th>\n",
       "      <td>0001_01</td>\n",
       "      <td>Europa</td>\n",
       "      <td>False</td>\n",
       "      <td>B/0/P</td>\n",
       "      <td>TRAPPIST-1e</td>\n",
       "      <td>39.0</td>\n",
       "      <td>False</td>\n",
       "      <td>0.0</td>\n",
       "      <td>0.0</td>\n",
       "      <td>0.0</td>\n",
       "      <td>...</td>\n",
       "      <td>0</td>\n",
       "      <td>0</td>\n",
       "      <td>0</td>\n",
       "      <td>0</td>\n",
       "      <td>0</td>\n",
       "      <td>1</td>\n",
       "      <td>1</td>\n",
       "      <td>B</td>\n",
       "      <td>0</td>\n",
       "      <td>P</td>\n",
       "    </tr>\n",
       "    <tr>\n",
       "      <th>1</th>\n",
       "      <td>0002_01</td>\n",
       "      <td>Earth</td>\n",
       "      <td>False</td>\n",
       "      <td>F/0/S</td>\n",
       "      <td>TRAPPIST-1e</td>\n",
       "      <td>24.0</td>\n",
       "      <td>False</td>\n",
       "      <td>109.0</td>\n",
       "      <td>9.0</td>\n",
       "      <td>25.0</td>\n",
       "      <td>...</td>\n",
       "      <td>0</td>\n",
       "      <td>0</td>\n",
       "      <td>0</td>\n",
       "      <td>0</td>\n",
       "      <td>0</td>\n",
       "      <td>2</td>\n",
       "      <td>1</td>\n",
       "      <td>F</td>\n",
       "      <td>0</td>\n",
       "      <td>S</td>\n",
       "    </tr>\n",
       "    <tr>\n",
       "      <th>2</th>\n",
       "      <td>0003_01</td>\n",
       "      <td>Europa</td>\n",
       "      <td>False</td>\n",
       "      <td>A/0/S</td>\n",
       "      <td>TRAPPIST-1e</td>\n",
       "      <td>58.0</td>\n",
       "      <td>True</td>\n",
       "      <td>43.0</td>\n",
       "      <td>3576.0</td>\n",
       "      <td>0.0</td>\n",
       "      <td>...</td>\n",
       "      <td>0</td>\n",
       "      <td>0</td>\n",
       "      <td>0</td>\n",
       "      <td>0</td>\n",
       "      <td>0</td>\n",
       "      <td>3</td>\n",
       "      <td>1</td>\n",
       "      <td>A</td>\n",
       "      <td>0</td>\n",
       "      <td>S</td>\n",
       "    </tr>\n",
       "    <tr>\n",
       "      <th>3</th>\n",
       "      <td>0003_02</td>\n",
       "      <td>Europa</td>\n",
       "      <td>False</td>\n",
       "      <td>A/0/S</td>\n",
       "      <td>TRAPPIST-1e</td>\n",
       "      <td>33.0</td>\n",
       "      <td>False</td>\n",
       "      <td>0.0</td>\n",
       "      <td>1283.0</td>\n",
       "      <td>371.0</td>\n",
       "      <td>...</td>\n",
       "      <td>0</td>\n",
       "      <td>0</td>\n",
       "      <td>0</td>\n",
       "      <td>0</td>\n",
       "      <td>0</td>\n",
       "      <td>3</td>\n",
       "      <td>2</td>\n",
       "      <td>A</td>\n",
       "      <td>0</td>\n",
       "      <td>S</td>\n",
       "    </tr>\n",
       "    <tr>\n",
       "      <th>4</th>\n",
       "      <td>0004_01</td>\n",
       "      <td>Earth</td>\n",
       "      <td>False</td>\n",
       "      <td>F/1/S</td>\n",
       "      <td>TRAPPIST-1e</td>\n",
       "      <td>16.0</td>\n",
       "      <td>False</td>\n",
       "      <td>303.0</td>\n",
       "      <td>70.0</td>\n",
       "      <td>151.0</td>\n",
       "      <td>...</td>\n",
       "      <td>0</td>\n",
       "      <td>0</td>\n",
       "      <td>0</td>\n",
       "      <td>0</td>\n",
       "      <td>0</td>\n",
       "      <td>4</td>\n",
       "      <td>1</td>\n",
       "      <td>F</td>\n",
       "      <td>1</td>\n",
       "      <td>S</td>\n",
       "    </tr>\n",
       "  </tbody>\n",
       "</table>\n",
       "<p>5 rows × 25 columns</p>\n",
       "</div>"
      ],
      "text/plain": [
       "  PassengerId HomePlanet CryoSleep  Cabin  Destination   Age    VIP  \\\n",
       "0     0001_01     Europa     False  B/0/P  TRAPPIST-1e  39.0  False   \n",
       "1     0002_01      Earth     False  F/0/S  TRAPPIST-1e  24.0  False   \n",
       "2     0003_01     Europa     False  A/0/S  TRAPPIST-1e  58.0   True   \n",
       "3     0003_02     Europa     False  A/0/S  TRAPPIST-1e  33.0  False   \n",
       "4     0004_01      Earth     False  F/1/S  TRAPPIST-1e  16.0  False   \n",
       "\n",
       "   RoomService  FoodCourt  ShoppingMall  ...  RoomService_is_missing  \\\n",
       "0          0.0        0.0           0.0  ...                       0   \n",
       "1        109.0        9.0          25.0  ...                       0   \n",
       "2         43.0     3576.0           0.0  ...                       0   \n",
       "3          0.0     1283.0         371.0  ...                       0   \n",
       "4        303.0       70.0         151.0  ...                       0   \n",
       "\n",
       "   FoodCourt_is_missing ShoppingMall_is_missing  Spa_is_missing  \\\n",
       "0                     0                       0               0   \n",
       "1                     0                       0               0   \n",
       "2                     0                       0               0   \n",
       "3                     0                       0               0   \n",
       "4                     0                       0               0   \n",
       "\n",
       "   VRDeck_is_missing  group_number  number_within_group  cabin_deck  \\\n",
       "0                  0             1                    1           B   \n",
       "1                  0             2                    1           F   \n",
       "2                  0             3                    1           A   \n",
       "3                  0             3                    2           A   \n",
       "4                  0             4                    1           F   \n",
       "\n",
       "   cabin_num  cabin_side  \n",
       "0          0           P  \n",
       "1          0           S  \n",
       "2          0           S  \n",
       "3          0           S  \n",
       "4          1           S  \n",
       "\n",
       "[5 rows x 25 columns]"
      ]
     },
     "execution_count": 19,
     "metadata": {},
     "output_type": "execute_result"
    }
   ],
   "source": [
    "train_df['cabin_deck'] = train_df['Cabin'].apply(lambda x: x.split('/')[0] if x != 'missing' else 'missing')\n",
    "train_df['cabin_num'] = train_df['Cabin'].apply(lambda x: int(x.split('/')[1]) if x != 'missing' else -1)\n",
    "train_df['cabin_side'] = train_df['Cabin'].apply(lambda x: x.split('/')[2] if x != 'missing' else 'missing')\n",
    "train_df.head()"
   ]
  },
  {
   "cell_type": "code",
   "execution_count": 20,
   "id": "908d52f6",
   "metadata": {},
   "outputs": [
    {
     "data": {
      "application/vnd.microsoft.datawrangler.viewer.v0+json": {
       "columns": [
        {
         "name": "index",
         "rawType": "int64",
         "type": "integer"
        },
        {
         "name": "PassengerId",
         "rawType": "object",
         "type": "string"
        },
        {
         "name": "HomePlanet",
         "rawType": "object",
         "type": "string"
        },
        {
         "name": "CryoSleep",
         "rawType": "object",
         "type": "unknown"
        },
        {
         "name": "Cabin",
         "rawType": "object",
         "type": "string"
        },
        {
         "name": "Destination",
         "rawType": "object",
         "type": "string"
        },
        {
         "name": "Age",
         "rawType": "float64",
         "type": "float"
        },
        {
         "name": "VIP",
         "rawType": "object",
         "type": "unknown"
        },
        {
         "name": "RoomService",
         "rawType": "float64",
         "type": "float"
        },
        {
         "name": "FoodCourt",
         "rawType": "float64",
         "type": "float"
        },
        {
         "name": "ShoppingMall",
         "rawType": "float64",
         "type": "float"
        },
        {
         "name": "Spa",
         "rawType": "float64",
         "type": "float"
        },
        {
         "name": "VRDeck",
         "rawType": "float64",
         "type": "float"
        },
        {
         "name": "Name",
         "rawType": "object",
         "type": "string"
        },
        {
         "name": "Transported",
         "rawType": "bool",
         "type": "boolean"
        },
        {
         "name": "Age_is_missing",
         "rawType": "int64",
         "type": "integer"
        },
        {
         "name": "RoomService_is_missing",
         "rawType": "int64",
         "type": "integer"
        },
        {
         "name": "FoodCourt_is_missing",
         "rawType": "int64",
         "type": "integer"
        },
        {
         "name": "ShoppingMall_is_missing",
         "rawType": "int64",
         "type": "integer"
        },
        {
         "name": "Spa_is_missing",
         "rawType": "int64",
         "type": "integer"
        },
        {
         "name": "VRDeck_is_missing",
         "rawType": "int64",
         "type": "integer"
        },
        {
         "name": "group_number",
         "rawType": "int64",
         "type": "integer"
        },
        {
         "name": "number_within_group",
         "rawType": "int64",
         "type": "integer"
        },
        {
         "name": "cabin_deck",
         "rawType": "object",
         "type": "string"
        },
        {
         "name": "cabin_num",
         "rawType": "int64",
         "type": "integer"
        },
        {
         "name": "cabin_side",
         "rawType": "object",
         "type": "string"
        },
        {
         "name": "age_decade",
         "rawType": "int64",
         "type": "integer"
        }
       ],
       "ref": "ee393f2b-01de-4068-a5c9-3de48d1fc2fb",
       "rows": [
        [
         "0",
         "0001_01",
         "Europa",
         "False",
         "B/0/P",
         "TRAPPIST-1e",
         "39.0",
         "False",
         "0.0",
         "0.0",
         "0.0",
         "0.0",
         "0.0",
         "Maham Ofracculy",
         "False",
         "0",
         "0",
         "0",
         "0",
         "0",
         "0",
         "1",
         "1",
         "B",
         "0",
         "P",
         "3"
        ],
        [
         "1",
         "0002_01",
         "Earth",
         "False",
         "F/0/S",
         "TRAPPIST-1e",
         "24.0",
         "False",
         "109.0",
         "9.0",
         "25.0",
         "549.0",
         "44.0",
         "Juanna Vines",
         "True",
         "0",
         "0",
         "0",
         "0",
         "0",
         "0",
         "2",
         "1",
         "F",
         "0",
         "S",
         "2"
        ],
        [
         "2",
         "0003_01",
         "Europa",
         "False",
         "A/0/S",
         "TRAPPIST-1e",
         "58.0",
         "True",
         "43.0",
         "3576.0",
         "0.0",
         "6715.0",
         "49.0",
         "Altark Susent",
         "False",
         "0",
         "0",
         "0",
         "0",
         "0",
         "0",
         "3",
         "1",
         "A",
         "0",
         "S",
         "5"
        ],
        [
         "3",
         "0003_02",
         "Europa",
         "False",
         "A/0/S",
         "TRAPPIST-1e",
         "33.0",
         "False",
         "0.0",
         "1283.0",
         "371.0",
         "3329.0",
         "193.0",
         "Solam Susent",
         "False",
         "0",
         "0",
         "0",
         "0",
         "0",
         "0",
         "3",
         "2",
         "A",
         "0",
         "S",
         "3"
        ],
        [
         "4",
         "0004_01",
         "Earth",
         "False",
         "F/1/S",
         "TRAPPIST-1e",
         "16.0",
         "False",
         "303.0",
         "70.0",
         "151.0",
         "565.0",
         "2.0",
         "Willy Santantines",
         "True",
         "0",
         "0",
         "0",
         "0",
         "0",
         "0",
         "4",
         "1",
         "F",
         "1",
         "S",
         "1"
        ]
       ],
       "shape": {
        "columns": 26,
        "rows": 5
       }
      },
      "text/html": [
       "<div>\n",
       "<style scoped>\n",
       "    .dataframe tbody tr th:only-of-type {\n",
       "        vertical-align: middle;\n",
       "    }\n",
       "\n",
       "    .dataframe tbody tr th {\n",
       "        vertical-align: top;\n",
       "    }\n",
       "\n",
       "    .dataframe thead th {\n",
       "        text-align: right;\n",
       "    }\n",
       "</style>\n",
       "<table border=\"1\" class=\"dataframe\">\n",
       "  <thead>\n",
       "    <tr style=\"text-align: right;\">\n",
       "      <th></th>\n",
       "      <th>PassengerId</th>\n",
       "      <th>HomePlanet</th>\n",
       "      <th>CryoSleep</th>\n",
       "      <th>Cabin</th>\n",
       "      <th>Destination</th>\n",
       "      <th>Age</th>\n",
       "      <th>VIP</th>\n",
       "      <th>RoomService</th>\n",
       "      <th>FoodCourt</th>\n",
       "      <th>ShoppingMall</th>\n",
       "      <th>...</th>\n",
       "      <th>FoodCourt_is_missing</th>\n",
       "      <th>ShoppingMall_is_missing</th>\n",
       "      <th>Spa_is_missing</th>\n",
       "      <th>VRDeck_is_missing</th>\n",
       "      <th>group_number</th>\n",
       "      <th>number_within_group</th>\n",
       "      <th>cabin_deck</th>\n",
       "      <th>cabin_num</th>\n",
       "      <th>cabin_side</th>\n",
       "      <th>age_decade</th>\n",
       "    </tr>\n",
       "  </thead>\n",
       "  <tbody>\n",
       "    <tr>\n",
       "      <th>0</th>\n",
       "      <td>0001_01</td>\n",
       "      <td>Europa</td>\n",
       "      <td>False</td>\n",
       "      <td>B/0/P</td>\n",
       "      <td>TRAPPIST-1e</td>\n",
       "      <td>39.0</td>\n",
       "      <td>False</td>\n",
       "      <td>0.0</td>\n",
       "      <td>0.0</td>\n",
       "      <td>0.0</td>\n",
       "      <td>...</td>\n",
       "      <td>0</td>\n",
       "      <td>0</td>\n",
       "      <td>0</td>\n",
       "      <td>0</td>\n",
       "      <td>1</td>\n",
       "      <td>1</td>\n",
       "      <td>B</td>\n",
       "      <td>0</td>\n",
       "      <td>P</td>\n",
       "      <td>3</td>\n",
       "    </tr>\n",
       "    <tr>\n",
       "      <th>1</th>\n",
       "      <td>0002_01</td>\n",
       "      <td>Earth</td>\n",
       "      <td>False</td>\n",
       "      <td>F/0/S</td>\n",
       "      <td>TRAPPIST-1e</td>\n",
       "      <td>24.0</td>\n",
       "      <td>False</td>\n",
       "      <td>109.0</td>\n",
       "      <td>9.0</td>\n",
       "      <td>25.0</td>\n",
       "      <td>...</td>\n",
       "      <td>0</td>\n",
       "      <td>0</td>\n",
       "      <td>0</td>\n",
       "      <td>0</td>\n",
       "      <td>2</td>\n",
       "      <td>1</td>\n",
       "      <td>F</td>\n",
       "      <td>0</td>\n",
       "      <td>S</td>\n",
       "      <td>2</td>\n",
       "    </tr>\n",
       "    <tr>\n",
       "      <th>2</th>\n",
       "      <td>0003_01</td>\n",
       "      <td>Europa</td>\n",
       "      <td>False</td>\n",
       "      <td>A/0/S</td>\n",
       "      <td>TRAPPIST-1e</td>\n",
       "      <td>58.0</td>\n",
       "      <td>True</td>\n",
       "      <td>43.0</td>\n",
       "      <td>3576.0</td>\n",
       "      <td>0.0</td>\n",
       "      <td>...</td>\n",
       "      <td>0</td>\n",
       "      <td>0</td>\n",
       "      <td>0</td>\n",
       "      <td>0</td>\n",
       "      <td>3</td>\n",
       "      <td>1</td>\n",
       "      <td>A</td>\n",
       "      <td>0</td>\n",
       "      <td>S</td>\n",
       "      <td>5</td>\n",
       "    </tr>\n",
       "    <tr>\n",
       "      <th>3</th>\n",
       "      <td>0003_02</td>\n",
       "      <td>Europa</td>\n",
       "      <td>False</td>\n",
       "      <td>A/0/S</td>\n",
       "      <td>TRAPPIST-1e</td>\n",
       "      <td>33.0</td>\n",
       "      <td>False</td>\n",
       "      <td>0.0</td>\n",
       "      <td>1283.0</td>\n",
       "      <td>371.0</td>\n",
       "      <td>...</td>\n",
       "      <td>0</td>\n",
       "      <td>0</td>\n",
       "      <td>0</td>\n",
       "      <td>0</td>\n",
       "      <td>3</td>\n",
       "      <td>2</td>\n",
       "      <td>A</td>\n",
       "      <td>0</td>\n",
       "      <td>S</td>\n",
       "      <td>3</td>\n",
       "    </tr>\n",
       "    <tr>\n",
       "      <th>4</th>\n",
       "      <td>0004_01</td>\n",
       "      <td>Earth</td>\n",
       "      <td>False</td>\n",
       "      <td>F/1/S</td>\n",
       "      <td>TRAPPIST-1e</td>\n",
       "      <td>16.0</td>\n",
       "      <td>False</td>\n",
       "      <td>303.0</td>\n",
       "      <td>70.0</td>\n",
       "      <td>151.0</td>\n",
       "      <td>...</td>\n",
       "      <td>0</td>\n",
       "      <td>0</td>\n",
       "      <td>0</td>\n",
       "      <td>0</td>\n",
       "      <td>4</td>\n",
       "      <td>1</td>\n",
       "      <td>F</td>\n",
       "      <td>1</td>\n",
       "      <td>S</td>\n",
       "      <td>1</td>\n",
       "    </tr>\n",
       "  </tbody>\n",
       "</table>\n",
       "<p>5 rows × 26 columns</p>\n",
       "</div>"
      ],
      "text/plain": [
       "  PassengerId HomePlanet CryoSleep  Cabin  Destination   Age    VIP  \\\n",
       "0     0001_01     Europa     False  B/0/P  TRAPPIST-1e  39.0  False   \n",
       "1     0002_01      Earth     False  F/0/S  TRAPPIST-1e  24.0  False   \n",
       "2     0003_01     Europa     False  A/0/S  TRAPPIST-1e  58.0   True   \n",
       "3     0003_02     Europa     False  A/0/S  TRAPPIST-1e  33.0  False   \n",
       "4     0004_01      Earth     False  F/1/S  TRAPPIST-1e  16.0  False   \n",
       "\n",
       "   RoomService  FoodCourt  ShoppingMall  ...  FoodCourt_is_missing  \\\n",
       "0          0.0        0.0           0.0  ...                     0   \n",
       "1        109.0        9.0          25.0  ...                     0   \n",
       "2         43.0     3576.0           0.0  ...                     0   \n",
       "3          0.0     1283.0         371.0  ...                     0   \n",
       "4        303.0       70.0         151.0  ...                     0   \n",
       "\n",
       "   ShoppingMall_is_missing Spa_is_missing  VRDeck_is_missing  group_number  \\\n",
       "0                        0              0                  0             1   \n",
       "1                        0              0                  0             2   \n",
       "2                        0              0                  0             3   \n",
       "3                        0              0                  0             3   \n",
       "4                        0              0                  0             4   \n",
       "\n",
       "   number_within_group  cabin_deck  cabin_num  cabin_side  age_decade  \n",
       "0                    1           B          0           P           3  \n",
       "1                    1           F          0           S           2  \n",
       "2                    1           A          0           S           5  \n",
       "3                    2           A          0           S           3  \n",
       "4                    1           F          1           S           1  \n",
       "\n",
       "[5 rows x 26 columns]"
      ]
     },
     "execution_count": 20,
     "metadata": {},
     "output_type": "execute_result"
    }
   ],
   "source": [
    "train_df['age_decade'] = (train_df['Age'] // 10).astype(int)\n",
    "train_df.head()"
   ]
  },
  {
   "cell_type": "code",
   "execution_count": 21,
   "id": "833965ab",
   "metadata": {},
   "outputs": [
    {
     "data": {
      "application/vnd.microsoft.datawrangler.viewer.v0+json": {
       "columns": [
        {
         "name": "index",
         "rawType": "int64",
         "type": "integer"
        },
        {
         "name": "RoomService",
         "rawType": "float64",
         "type": "float"
        },
        {
         "name": "FoodCourt",
         "rawType": "float64",
         "type": "float"
        },
        {
         "name": "ShoppingMall",
         "rawType": "float64",
         "type": "float"
        },
        {
         "name": "Spa",
         "rawType": "float64",
         "type": "float"
        },
        {
         "name": "VRDeck",
         "rawType": "float64",
         "type": "float"
        },
        {
         "name": "total_spent",
         "rawType": "float64",
         "type": "float"
        }
       ],
       "ref": "1be65a99-bf94-4dfd-8a91-4bd0cfc42fd7",
       "rows": [
        [
         "0",
         "0.0",
         "0.0",
         "0.0",
         "0.0",
         "0.0",
         "0.0"
        ],
        [
         "1",
         "109.0",
         "9.0",
         "25.0",
         "549.0",
         "44.0",
         "736.0"
        ],
        [
         "2",
         "43.0",
         "3576.0",
         "0.0",
         "6715.0",
         "49.0",
         "10383.0"
        ],
        [
         "3",
         "0.0",
         "1283.0",
         "371.0",
         "3329.0",
         "193.0",
         "5176.0"
        ],
        [
         "4",
         "303.0",
         "70.0",
         "151.0",
         "565.0",
         "2.0",
         "1091.0"
        ]
       ],
       "shape": {
        "columns": 6,
        "rows": 5
       }
      },
      "text/html": [
       "<div>\n",
       "<style scoped>\n",
       "    .dataframe tbody tr th:only-of-type {\n",
       "        vertical-align: middle;\n",
       "    }\n",
       "\n",
       "    .dataframe tbody tr th {\n",
       "        vertical-align: top;\n",
       "    }\n",
       "\n",
       "    .dataframe thead th {\n",
       "        text-align: right;\n",
       "    }\n",
       "</style>\n",
       "<table border=\"1\" class=\"dataframe\">\n",
       "  <thead>\n",
       "    <tr style=\"text-align: right;\">\n",
       "      <th></th>\n",
       "      <th>RoomService</th>\n",
       "      <th>FoodCourt</th>\n",
       "      <th>ShoppingMall</th>\n",
       "      <th>Spa</th>\n",
       "      <th>VRDeck</th>\n",
       "      <th>total_spent</th>\n",
       "    </tr>\n",
       "  </thead>\n",
       "  <tbody>\n",
       "    <tr>\n",
       "      <th>0</th>\n",
       "      <td>0.0</td>\n",
       "      <td>0.0</td>\n",
       "      <td>0.0</td>\n",
       "      <td>0.0</td>\n",
       "      <td>0.0</td>\n",
       "      <td>0.0</td>\n",
       "    </tr>\n",
       "    <tr>\n",
       "      <th>1</th>\n",
       "      <td>109.0</td>\n",
       "      <td>9.0</td>\n",
       "      <td>25.0</td>\n",
       "      <td>549.0</td>\n",
       "      <td>44.0</td>\n",
       "      <td>736.0</td>\n",
       "    </tr>\n",
       "    <tr>\n",
       "      <th>2</th>\n",
       "      <td>43.0</td>\n",
       "      <td>3576.0</td>\n",
       "      <td>0.0</td>\n",
       "      <td>6715.0</td>\n",
       "      <td>49.0</td>\n",
       "      <td>10383.0</td>\n",
       "    </tr>\n",
       "    <tr>\n",
       "      <th>3</th>\n",
       "      <td>0.0</td>\n",
       "      <td>1283.0</td>\n",
       "      <td>371.0</td>\n",
       "      <td>3329.0</td>\n",
       "      <td>193.0</td>\n",
       "      <td>5176.0</td>\n",
       "    </tr>\n",
       "    <tr>\n",
       "      <th>4</th>\n",
       "      <td>303.0</td>\n",
       "      <td>70.0</td>\n",
       "      <td>151.0</td>\n",
       "      <td>565.0</td>\n",
       "      <td>2.0</td>\n",
       "      <td>1091.0</td>\n",
       "    </tr>\n",
       "  </tbody>\n",
       "</table>\n",
       "</div>"
      ],
      "text/plain": [
       "   RoomService  FoodCourt  ShoppingMall     Spa  VRDeck  total_spent\n",
       "0          0.0        0.0           0.0     0.0     0.0          0.0\n",
       "1        109.0        9.0          25.0   549.0    44.0        736.0\n",
       "2         43.0     3576.0           0.0  6715.0    49.0      10383.0\n",
       "3          0.0     1283.0         371.0  3329.0   193.0       5176.0\n",
       "4        303.0       70.0         151.0   565.0     2.0       1091.0"
      ]
     },
     "execution_count": 21,
     "metadata": {},
     "output_type": "execute_result"
    }
   ],
   "source": [
    "train_df['total_spent'] = train_df[['RoomService', 'FoodCourt', 'ShoppingMall', 'Spa', 'VRDeck']].sum(axis=1)\n",
    "train_df[['RoomService', 'FoodCourt', 'ShoppingMall', 'Spa', 'VRDeck', 'total_spent']].head()"
   ]
  },
  {
   "cell_type": "code",
   "execution_count": 22,
   "id": "65ec93a4",
   "metadata": {},
   "outputs": [
    {
     "data": {
      "image/png": "[encoded data removed]",
      "text/plain": [
       "<Figure size 1000x600 with 1 Axes>"
      ]
     },
     "metadata": {},
     "output_type": "display_data"
    }
   ],
   "source": [
    "plt.figure(figsize=(10, 6))\n",
    "sns.histplot(train_df['total_spent'], bins=30, kde=True)\n",
    "plt.title('Total Spending Distribution - 30 buckets')\n",
    "plt.xlabel('Total Spent')\n",
    "plt.ylabel('Count')\n",
    "plt.show()"
   ]
  },
  {
   "cell_type": "code",
   "execution_count": 23,
   "id": "24d41382",
   "metadata": {},
   "outputs": [
    {
     "data": {
      "image/png": "[encoded data removed]",
      "text/plain": [
       "<Figure size 1000x600 with 1 Axes>"
      ]
     },
     "metadata": {},
     "output_type": "display_data"
    }
   ],
   "source": [
    "plt.figure(figsize=(10, 6))\n",
    "sns.histplot(train_df['total_spent'], bins=20, kde=True)\n",
    "plt.title('Total Spending Distribution - 20 buckets')\n",
    "plt.xlabel('Total Spent')\n",
    "plt.ylabel('Count')\n",
    "plt.show()"
   ]
  },
  {
   "cell_type": "code",
   "execution_count": 24,
   "id": "c200ba51",
   "metadata": {},
   "outputs": [
    {
     "data": {
      "application/vnd.microsoft.datawrangler.viewer.v0+json": {
       "columns": [
        {
         "name": "total_spent",
         "rawType": "category",
         "type": "unknown"
        },
        {
         "name": "count",
         "rawType": "float64",
         "type": "float"
        }
       ],
       "ref": "b56d8e23-12ad-4ab7-933e-0d273586cc3d",
       "rows": [
        [
         "(-35.987, 1799.35]",
         "79.19015299666398"
        ],
        [
         "(1799.35, 3598.7]",
         "10.054066490279535"
        ],
        [
         "(3598.7, 5398.05]",
         "4.095249050960543"
        ],
        [
         "(5398.05, 7197.4]",
         "2.4847578511445993"
        ],
        [
         "(7197.4, 8996.75]",
         "1.495456114114805"
        ],
        [
         "(8996.75, 10796.1]",
         "0.8512596341884275"
        ],
        [
         "(10796.1, 12595.45]",
         "0.598182445645922"
        ],
        [
         "(12595.45, 14394.8]",
         "0.2185666628321638"
        ],
        [
         "(14394.8, 16194.15]",
         "0.19555964569193604"
        ],
        [
         "(16194.15, 17993.5]",
         "0.27608420568273323"
        ],
        [
         "(17993.5, 19792.85]",
         "0.18405613712182217"
        ],
        [
         "(19792.85, 21592.2]",
         "0.08052455999079719"
        ],
        [
         "(21592.2, 23391.55]",
         "0.08052455999079719"
        ],
        [
         "(23391.55, 25190.9]",
         "0.034510525710341654"
        ],
        [
         "(25190.9, 26990.25]",
         "0.034510525710341654"
        ],
        [
         "(26990.25, 28789.6]",
         "0.06902105142068331"
        ],
        [
         "(28789.6, 30588.95]",
         "0.02300701714022777"
        ],
        [
         "(30588.95, 32388.3]",
         "0.02300701714022777"
        ],
        [
         "(32388.3, 34187.65]",
         "0.0"
        ],
        [
         "(34187.65, 35987.0]",
         "0.011503508570113886"
        ]
       ],
       "shape": {
        "columns": 1,
        "rows": 20
       }
      },
      "text/plain": [
       "total_spent\n",
       "(-35.987, 1799.35]     79.190153\n",
       "(1799.35, 3598.7]      10.054066\n",
       "(3598.7, 5398.05]       4.095249\n",
       "(5398.05, 7197.4]       2.484758\n",
       "(7197.4, 8996.75]       1.495456\n",
       "(8996.75, 10796.1]      0.851260\n",
       "(10796.1, 12595.45]     0.598182\n",
       "(12595.45, 14394.8]     0.218567\n",
       "(14394.8, 16194.15]     0.195560\n",
       "(16194.15, 17993.5]     0.276084\n",
       "(17993.5, 19792.85]     0.184056\n",
       "(19792.85, 21592.2]     0.080525\n",
       "(21592.2, 23391.55]     0.080525\n",
       "(23391.55, 25190.9]     0.034511\n",
       "(25190.9, 26990.25]     0.034511\n",
       "(26990.25, 28789.6]     0.069021\n",
       "(28789.6, 30588.95]     0.023007\n",
       "(30588.95, 32388.3]     0.023007\n",
       "(32388.3, 34187.65]     0.000000\n",
       "(34187.65, 35987.0]     0.011504\n",
       "Name: count, dtype: float64"
      ]
     },
     "execution_count": 24,
     "metadata": {},
     "output_type": "execute_result"
    }
   ],
   "source": [
    "bucket_counts = pd.cut(train_df['total_spent'], bins=20).value_counts(sort=False)\n",
    "bucket_percent = (bucket_counts / len(train_df)) * 100\n",
    "bucket_percent"
   ]
  },
  {
   "cell_type": "code",
   "execution_count": 25,
   "id": "b92cc9c4",
   "metadata": {},
   "outputs": [
    {
     "data": {
      "application/vnd.microsoft.datawrangler.viewer.v0+json": {
       "columns": [
        {
         "name": "did_spend",
         "rawType": "int64",
         "type": "integer"
        },
        {
         "name": "count",
         "rawType": "int64",
         "type": "integer"
        }
       ],
       "ref": "f8c14eb8-3d34-4bf3-8888-8ccec3eea36a",
       "rows": [
        [
         "1",
         "5040"
        ],
        [
         "0",
         "3653"
        ]
       ],
       "shape": {
        "columns": 1,
        "rows": 2
       }
      },
      "text/plain": [
       "did_spend\n",
       "1    5040\n",
       "0    3653\n",
       "Name: count, dtype: int64"
      ]
     },
     "execution_count": 25,
     "metadata": {},
     "output_type": "execute_result"
    }
   ],
   "source": [
    "train_df['did_spend'] = (train_df['total_spent'] > 0).astype(int)\n",
    "train_df['did_spend'].value_counts()"
   ]
  },
  {
   "cell_type": "code",
   "execution_count": 26,
   "id": "39cf1588",
   "metadata": {
    "vscode": {
     "languageId": "ruby"
    }
   },
   "outputs": [
    {
     "data": {
      "application/vnd.microsoft.datawrangler.viewer.v0+json": {
       "columns": [
        {
         "name": "index",
         "rawType": "int64",
         "type": "integer"
        },
        {
         "name": "total_spent",
         "rawType": "float64",
         "type": "float"
        },
        {
         "name": "spending_quartile",
         "rawType": "int64",
         "type": "integer"
        },
        {
         "name": "did_spend",
         "rawType": "int64",
         "type": "integer"
        },
        {
         "name": "high_spender",
         "rawType": "int64",
         "type": "integer"
        }
       ],
       "ref": "d661e317-93fa-43fd-b658-3aef2ac94260",
       "rows": [
        [
         "0",
         "0.0",
         "0",
         "0",
         "0"
        ],
        [
         "1",
         "736.0",
         "1",
         "1",
         "0"
        ],
        [
         "2",
         "10383.0",
         "4",
         "1",
         "1"
        ],
        [
         "3",
         "5176.0",
         "4",
         "1",
         "1"
        ],
        [
         "4",
         "1091.0",
         "2",
         "1",
         "0"
        ]
       ],
       "shape": {
        "columns": 4,
        "rows": 5
       }
      },
      "text/html": [
       "<div>\n",
       "<style scoped>\n",
       "    .dataframe tbody tr th:only-of-type {\n",
       "        vertical-align: middle;\n",
       "    }\n",
       "\n",
       "    .dataframe tbody tr th {\n",
       "        vertical-align: top;\n",
       "    }\n",
       "\n",
       "    .dataframe thead th {\n",
       "        text-align: right;\n",
       "    }\n",
       "</style>\n",
       "<table border=\"1\" class=\"dataframe\">\n",
       "  <thead>\n",
       "    <tr style=\"text-align: right;\">\n",
       "      <th></th>\n",
       "      <th>total_spent</th>\n",
       "      <th>spending_quartile</th>\n",
       "      <th>did_spend</th>\n",
       "      <th>high_spender</th>\n",
       "    </tr>\n",
       "  </thead>\n",
       "  <tbody>\n",
       "    <tr>\n",
       "      <th>0</th>\n",
       "      <td>0.0</td>\n",
       "      <td>0</td>\n",
       "      <td>0</td>\n",
       "      <td>0</td>\n",
       "    </tr>\n",
       "    <tr>\n",
       "      <th>1</th>\n",
       "      <td>736.0</td>\n",
       "      <td>1</td>\n",
       "      <td>1</td>\n",
       "      <td>0</td>\n",
       "    </tr>\n",
       "    <tr>\n",
       "      <th>2</th>\n",
       "      <td>10383.0</td>\n",
       "      <td>4</td>\n",
       "      <td>1</td>\n",
       "      <td>1</td>\n",
       "    </tr>\n",
       "    <tr>\n",
       "      <th>3</th>\n",
       "      <td>5176.0</td>\n",
       "      <td>4</td>\n",
       "      <td>1</td>\n",
       "      <td>1</td>\n",
       "    </tr>\n",
       "    <tr>\n",
       "      <th>4</th>\n",
       "      <td>1091.0</td>\n",
       "      <td>2</td>\n",
       "      <td>1</td>\n",
       "      <td>0</td>\n",
       "    </tr>\n",
       "  </tbody>\n",
       "</table>\n",
       "</div>"
      ],
      "text/plain": [
       "   total_spent  spending_quartile  did_spend  high_spender\n",
       "0          0.0                  0          0             0\n",
       "1        736.0                  1          1             0\n",
       "2      10383.0                  4          1             1\n",
       "3       5176.0                  4          1             1\n",
       "4       1091.0                  2          1             0"
      ]
     },
     "execution_count": 26,
     "metadata": {},
     "output_type": "execute_result"
    }
   ],
   "source": [
    "train_df.loc[train_df['did_spend'] == 1, 'spending_quartile'] = pd.qcut(\n",
    "    train_df.loc[train_df['did_spend'] == 1, 'total_spent'],\n",
    "    q=4,\n",
    "    labels=[1, 2, 3, 4]\n",
    ").astype(int)\n",
    "train_df['spending_quartile'] = train_df['spending_quartile'].fillna(0).astype(int)\n",
    "train_df['high_spender'] = (train_df['spending_quartile'] == 4).astype(int)\n",
    "train_df[['total_spent', 'spending_quartile', 'did_spend', 'high_spender']].head()"
   ]
  },
  {
   "cell_type": "code",
   "execution_count": 27,
   "id": "f38c63d9",
   "metadata": {
    "vscode": {
     "languageId": "ruby"
    }
   },
   "outputs": [
    {
     "data": {
      "application/vnd.microsoft.datawrangler.viewer.v0+json": {
       "columns": [
        {
         "name": "high_spender",
         "rawType": "int64",
         "type": "integer"
        },
        {
         "name": "count",
         "rawType": "int64",
         "type": "integer"
        }
       ],
       "ref": "836b6c1c-559f-43e1-a4ec-85dd4c794ddf",
       "rows": [
        [
         "0",
         "7433"
        ],
        [
         "1",
         "1260"
        ]
       ],
       "shape": {
        "columns": 1,
        "rows": 2
       }
      },
      "text/plain": [
       "high_spender\n",
       "0    7433\n",
       "1    1260\n",
       "Name: count, dtype: int64"
      ]
     },
     "execution_count": 27,
     "metadata": {},
     "output_type": "execute_result"
    }
   ],
   "source": [
    "train_df['high_spender'].value_counts()"
   ]
  },
  {
   "cell_type": "code",
   "execution_count": 28,
   "id": "2cac69cf",
   "metadata": {
    "vscode": {
     "languageId": "ruby"
    }
   },
   "outputs": [
    {
     "data": {
      "application/vnd.microsoft.datawrangler.viewer.v0+json": {
       "columns": [
        {
         "name": "last_name",
         "rawType": "object",
         "type": "string"
        },
        {
         "name": "count",
         "rawType": "int64",
         "type": "integer"
        }
       ],
       "ref": "01220eb4-b0ff-4601-9a17-77d6fc8af235",
       "rows": [
        [
         "Casonston",
         "18"
        ],
        [
         "Oneiles",
         "16"
        ],
        [
         "Domington",
         "15"
        ],
        [
         "Litthews",
         "15"
        ],
        [
         "Garnes",
         "14"
        ],
        [
         "Browlerson",
         "14"
        ],
        [
         "Fulloydez",
         "14"
        ],
        [
         "Cartez",
         "14"
        ],
        [
         "Gibbsonton",
         "13"
        ],
        [
         "Distured",
         "13"
        ]
       ],
       "shape": {
        "columns": 1,
        "rows": 10
       }
      },
      "text/plain": [
       "last_name\n",
       "Casonston     18\n",
       "Oneiles       16\n",
       "Domington     15\n",
       "Litthews      15\n",
       "Garnes        14\n",
       "Browlerson    14\n",
       "Fulloydez     14\n",
       "Cartez        14\n",
       "Gibbsonton    13\n",
       "Distured      13\n",
       "Name: count, dtype: int64"
      ]
     },
     "execution_count": 28,
     "metadata": {},
     "output_type": "execute_result"
    }
   ],
   "source": [
    "train_df['last_name'] = train_df['Name'].str.split(' ').str[-1]\n",
    "train_df['last_name'].value_counts().head(10)"
   ]
  },
  {
   "cell_type": "code",
   "execution_count": 29,
   "id": "4482fc82",
   "metadata": {
    "vscode": {
     "languageId": "ruby"
    }
   },
   "outputs": [
    {
     "data": {
      "text/plain": [
       "Index(['PassengerId', 'HomePlanet', 'CryoSleep', 'Cabin', 'Destination', 'Age',\n",
       "       'VIP', 'RoomService', 'FoodCourt', 'ShoppingMall', 'Spa', 'VRDeck',\n",
       "       'Name', 'Transported', 'Age_is_missing', 'RoomService_is_missing',\n",
       "       'FoodCourt_is_missing', 'ShoppingMall_is_missing', 'Spa_is_missing',\n",
       "       'VRDeck_is_missing', 'group_number', 'number_within_group',\n",
       "       'cabin_deck', 'cabin_num', 'cabin_side', 'age_decade', 'total_spent',\n",
       "       'did_spend', 'spending_quartile', 'high_spender', 'last_name'],\n",
       "      dtype='object')"
      ]
     },
     "execution_count": 29,
     "metadata": {},
     "output_type": "execute_result"
    }
   ],
   "source": [
    "train_df.columns"
   ]
  },
  {
   "cell_type": "markdown",
   "id": "4aa75fa4",
   "metadata": {},
   "source": [
    "## Data Preprocessing\n",
    "\n",
    "This section focuses on preparing data for use in model selection. This will involve some final cleaning as well as data splitting. \n",
    "\n",
    "- encoding categorical features\n",
    "- scaling numerical features\n",
    "- splitting data into training and testing sets\n",
    "\n",
    "We will also look at our features to determine if there are any we can drop prior to use in model selection- the criteria for this will be specifically if there is any correlation between our given feature and whether that record was transported. \n",
    "\n"
   ]
  },
  {
   "cell_type": "code",
   "execution_count": 30,
   "id": "b0d41b37",
   "metadata": {
    "vscode": {
     "languageId": "ruby"
    }
   },
   "outputs": [
    {
     "data": {
      "application/vnd.microsoft.datawrangler.viewer.v0+json": {
       "columns": [
        {
         "name": "index",
         "rawType": "object",
         "type": "string"
        },
        {
         "name": "0",
         "rawType": "object",
         "type": "unknown"
        }
       ],
       "ref": "7f23f250-ed9f-4440-be37-7ac042208269",
       "rows": [
        [
         "PassengerId",
         "object"
        ],
        [
         "HomePlanet",
         "object"
        ],
        [
         "CryoSleep",
         "object"
        ],
        [
         "Cabin",
         "object"
        ],
        [
         "Destination",
         "object"
        ],
        [
         "Age",
         "float64"
        ],
        [
         "VIP",
         "object"
        ],
        [
         "RoomService",
         "float64"
        ],
        [
         "FoodCourt",
         "float64"
        ],
        [
         "ShoppingMall",
         "float64"
        ],
        [
         "Spa",
         "float64"
        ],
        [
         "VRDeck",
         "float64"
        ],
        [
         "Name",
         "object"
        ],
        [
         "Transported",
         "bool"
        ],
        [
         "Age_is_missing",
         "int64"
        ],
        [
         "RoomService_is_missing",
         "int64"
        ],
        [
         "FoodCourt_is_missing",
         "int64"
        ],
        [
         "ShoppingMall_is_missing",
         "int64"
        ],
        [
         "Spa_is_missing",
         "int64"
        ],
        [
         "VRDeck_is_missing",
         "int64"
        ],
        [
         "group_number",
         "int64"
        ],
        [
         "number_within_group",
         "int64"
        ],
        [
         "cabin_deck",
         "object"
        ],
        [
         "cabin_num",
         "int64"
        ],
        [
         "cabin_side",
         "object"
        ],
        [
         "age_decade",
         "int64"
        ],
        [
         "total_spent",
         "float64"
        ],
        [
         "did_spend",
         "int64"
        ],
        [
         "spending_quartile",
         "int64"
        ],
        [
         "high_spender",
         "int64"
        ],
        [
         "last_name",
         "object"
        ]
       ],
       "shape": {
        "columns": 1,
        "rows": 31
       }
      },
      "text/plain": [
       "PassengerId                 object\n",
       "HomePlanet                  object\n",
       "CryoSleep                   object\n",
       "Cabin                       object\n",
       "Destination                 object\n",
       "Age                        float64\n",
       "VIP                         object\n",
       "RoomService                float64\n",
       "FoodCourt                  float64\n",
       "ShoppingMall               float64\n",
       "Spa                        float64\n",
       "VRDeck                     float64\n",
       "Name                        object\n",
       "Transported                   bool\n",
       "Age_is_missing               int64\n",
       "RoomService_is_missing       int64\n",
       "FoodCourt_is_missing         int64\n",
       "ShoppingMall_is_missing      int64\n",
       "Spa_is_missing               int64\n",
       "VRDeck_is_missing            int64\n",
       "group_number                 int64\n",
       "number_within_group          int64\n",
       "cabin_deck                  object\n",
       "cabin_num                    int64\n",
       "cabin_side                  object\n",
       "age_decade                   int64\n",
       "total_spent                float64\n",
       "did_spend                    int64\n",
       "spending_quartile            int64\n",
       "high_spender                 int64\n",
       "last_name                   object\n",
       "dtype: object"
      ]
     },
     "execution_count": 30,
     "metadata": {},
     "output_type": "execute_result"
    }
   ],
   "source": [
    "train_df.dtypes"
   ]
  },
  {
   "cell_type": "markdown",
   "id": "eedf1042",
   "metadata": {},
   "source": [
    "We will want to create a mapping of sorts for features such as destination and home planet. \n",
    "\n",
    "For destination we will use the following mapping:\n",
    "{\n",
    "    TRAPPIST-1e: 1,\n",
    "    55 Cancri e: 2,\n",
    "    PSO J318.5-22: 3,\n",
    "    missing: 4\n",
    "}\n",
    "\n",
    "For home planet we will use the following mapping:\n",
    "{\n",
    "    Earth: 1,\n",
    "    Europa: 2,\n",
    "    Mars: 3,\n",
    "    missing: 4\n",
    "}"
   ]
  },
  {
   "cell_type": "code",
   "execution_count": 31,
   "id": "8c76a83b",
   "metadata": {
    "vscode": {
     "languageId": "ruby"
    }
   },
   "outputs": [
    {
     "data": {
      "application/vnd.microsoft.datawrangler.viewer.v0+json": {
       "columns": [
        {
         "name": "destination_encoded",
         "rawType": "int64",
         "type": "integer"
        },
        {
         "name": "count",
         "rawType": "int64",
         "type": "integer"
        }
       ],
       "ref": "6810c7f5-3f26-49e6-8dad-20df282d0145",
       "rows": [
        [
         "1",
         "5915"
        ],
        [
         "2",
         "1800"
        ],
        [
         "3",
         "796"
        ],
        [
         "4",
         "182"
        ]
       ],
       "shape": {
        "columns": 1,
        "rows": 4
       }
      },
      "text/plain": [
       "destination_encoded\n",
       "1    5915\n",
       "2    1800\n",
       "3     796\n",
       "4     182\n",
       "Name: count, dtype: int64"
      ]
     },
     "execution_count": 31,
     "metadata": {},
     "output_type": "execute_result"
    }
   ],
   "source": [
    "destination_map = {\n",
    "    'TRAPPIST-1e': 1,\n",
    "    '55 Cancri e': 2,\n",
    "    'PSO J318.5-22': 3,\n",
    "    'missing': 4\n",
    "}\n",
    "train_df['destination_encoded'] = train_df['Destination'].map(destination_map)\n",
    "train_df['destination_encoded'] = train_df['destination_encoded'].fillna(4).astype(int)\n",
    "train_df = train_df.drop(columns=['Destination'])\n",
    "train_df['destination_encoded'].value_counts()"
   ]
  },
  {
   "cell_type": "code",
   "execution_count": 32,
   "id": "1344736f",
   "metadata": {
    "vscode": {
     "languageId": "ruby"
    }
   },
   "outputs": [
    {
     "data": {
      "application/vnd.microsoft.datawrangler.viewer.v0+json": {
       "columns": [
        {
         "name": "home_planet_encoded",
         "rawType": "int64",
         "type": "integer"
        },
        {
         "name": "count",
         "rawType": "int64",
         "type": "integer"
        }
       ],
       "ref": "e23ad2d4-246d-4c6b-94bc-9e7dbd3af0a2",
       "rows": [
        [
         "1",
         "4602"
        ],
        [
         "2",
         "2131"
        ],
        [
         "3",
         "1759"
        ],
        [
         "4",
         "201"
        ]
       ],
       "shape": {
        "columns": 1,
        "rows": 4
       }
      },
      "text/plain": [
       "home_planet_encoded\n",
       "1    4602\n",
       "2    2131\n",
       "3    1759\n",
       "4     201\n",
       "Name: count, dtype: int64"
      ]
     },
     "execution_count": 32,
     "metadata": {},
     "output_type": "execute_result"
    }
   ],
   "source": [
    "home_planet_map = {\n",
    "    'Earth': 1,\n",
    "    'Europa': 2,\n",
    "    'Mars': 3,\n",
    "    'missing': 4\n",
    "}\n",
    "train_df['home_planet_encoded'] = train_df['HomePlanet'].map(home_planet_map)\n",
    "train_df['home_planet_encoded'] = train_df['home_planet_encoded'].fillna(4).astype(int)\n",
    "train_df = train_df.drop(columns=['HomePlanet'])\n",
    "train_df['home_planet_encoded'].value_counts()"
   ]
  },
  {
   "cell_type": "markdown",
   "id": "cb3213b4",
   "metadata": {},
   "source": [
    "There are several columns that are currently classified as objects but are really booleans. We will use a 1-0 system to adjust these. The specific columns are: \n",
    "- VIP\n",
    "- CryoSleep"
   ]
  },
  {
   "cell_type": "code",
   "execution_count": 36,
   "id": "5c56ab6b",
   "metadata": {
    "vscode": {
     "languageId": "ruby"
    }
   },
   "outputs": [],
   "source": [
    "train_df['vip_encoded'] = train_df['VIP'].astype(bool).astype(int)\n",
    "train_df['cryo_sleep_encoded'] = train_df['CryoSleep'].astype(bool).astype(int)\n",
    "train_df[['VIP','vip_encoded', 'CryoSleep', 'cryo_sleep_encoded']].head()\n",
    "train_df = train_df.drop(columns=['VIP', 'CryoSleep'])"
   ]
  },
  {
   "cell_type": "markdown",
   "id": "455123ef",
   "metadata": {},
   "source": [
    "There are several more columns we can drop as they have already been adjusted for use in model selection. \n",
    "\n",
    "These columns are: \n",
    "- PassengerId\n",
    "- Cabin\n",
    "- Name"
   ]
  },
  {
   "cell_type": "code",
   "execution_count": 37,
   "id": "06f4b2f5",
   "metadata": {
    "vscode": {
     "languageId": "ruby"
    }
   },
   "outputs": [],
   "source": [
    "train_df = train_df.drop(columns=['PassengerId', 'Cabin', 'Name'])"
   ]
  },
  {
   "cell_type": "markdown",
   "id": "41c71565",
   "metadata": {},
   "source": [
    "We will need to figure out a mapping for cabin_deck, last_name, and cabin_side. \n",
    "\n",
    "For cabin_side, we will simply use { P: 1, S: 2, missing: 3}\n",
    "\n",
    "For last_name we will need to auto-increment values for each unique last_name. \n",
    "\n",
    "For cabin deck, we will use {\n",
    "    A: 1,\n",
    "    B: 2,\n",
    "    C: 3, \n",
    "    D: 4,\n",
    "    E: 5,\n",
    "    F: 6,\n",
    "    G: 7,\n",
    "    T: 8,\n",
    "    missing: 9\n",
    "}"
   ]
  },
  {
   "cell_type": "code",
   "execution_count": null,
   "id": "c327540e",
   "metadata": {},
   "outputs": [
    {
     "ename": "KeyError",
     "evalue": "\"['last_name'] not in index\"",
     "output_type": "error",
     "traceback": [
      "\u001b[31m---------------------------------------------------------------------------\u001b[39m",
      "\u001b[31mKeyError\u001b[39m                                  Traceback (most recent call last)",
      "\u001b[36mCell\u001b[39m\u001b[36m \u001b[39m\u001b[32mIn[45]\u001b[39m\u001b[32m, line 5\u001b[39m\n\u001b[32m      3\u001b[39m train_df[\u001b[33m'\u001b[39m\u001b[33mlast_name_encoded\u001b[39m\u001b[33m'\u001b[39m] = train_df[\u001b[33m'\u001b[39m\u001b[33mlast_name\u001b[39m\u001b[33m'\u001b[39m].map(last_name_map).fillna(\u001b[32m0\u001b[39m).astype(\u001b[38;5;28mint\u001b[39m)\n\u001b[32m      4\u001b[39m train_df = train_df.drop(columns=[\u001b[33m'\u001b[39m\u001b[33mlast_name\u001b[39m\u001b[33m'\u001b[39m])\n\u001b[32m----> \u001b[39m\u001b[32m5\u001b[39m \u001b[43mtrain_df\u001b[49m\u001b[43m[\u001b[49m\u001b[43m[\u001b[49m\u001b[33;43m'\u001b[39;49m\u001b[33;43mlast_name\u001b[39;49m\u001b[33;43m'\u001b[39;49m\u001b[43m,\u001b[49m\u001b[43m \u001b[49m\u001b[33;43m'\u001b[39;49m\u001b[33;43mlast_name_encoded\u001b[39;49m\u001b[33;43m'\u001b[39;49m\u001b[43m]\u001b[49m\u001b[43m]\u001b[49m.head(\u001b[32m10\u001b[39m)\n",
      "\u001b[36mFile \u001b[39m\u001b[32m~\\AppData\\Roaming\\Python\\Python313\\site-packages\\pandas\\core\\frame.py:4108\u001b[39m, in \u001b[36mDataFrame.__getitem__\u001b[39m\u001b[34m(self, key)\u001b[39m\n\u001b[32m   4106\u001b[39m     \u001b[38;5;28;01mif\u001b[39;00m is_iterator(key):\n\u001b[32m   4107\u001b[39m         key = \u001b[38;5;28mlist\u001b[39m(key)\n\u001b[32m-> \u001b[39m\u001b[32m4108\u001b[39m     indexer = \u001b[38;5;28;43mself\u001b[39;49m\u001b[43m.\u001b[49m\u001b[43mcolumns\u001b[49m\u001b[43m.\u001b[49m\u001b[43m_get_indexer_strict\u001b[49m\u001b[43m(\u001b[49m\u001b[43mkey\u001b[49m\u001b[43m,\u001b[49m\u001b[43m \u001b[49m\u001b[33;43m\"\u001b[39;49m\u001b[33;43mcolumns\u001b[39;49m\u001b[33;43m\"\u001b[39;49m\u001b[43m)\u001b[49m[\u001b[32m1\u001b[39m]\n\u001b[32m   4110\u001b[39m \u001b[38;5;66;03m# take() does not accept boolean indexers\u001b[39;00m\n\u001b[32m   4111\u001b[39m \u001b[38;5;28;01mif\u001b[39;00m \u001b[38;5;28mgetattr\u001b[39m(indexer, \u001b[33m\"\u001b[39m\u001b[33mdtype\u001b[39m\u001b[33m\"\u001b[39m, \u001b[38;5;28;01mNone\u001b[39;00m) == \u001b[38;5;28mbool\u001b[39m:\n",
      "\u001b[36mFile \u001b[39m\u001b[32m~\\AppData\\Roaming\\Python\\Python313\\site-packages\\pandas\\core\\indexes\\base.py:6200\u001b[39m, in \u001b[36mIndex._get_indexer_strict\u001b[39m\u001b[34m(self, key, axis_name)\u001b[39m\n\u001b[32m   6197\u001b[39m \u001b[38;5;28;01melse\u001b[39;00m:\n\u001b[32m   6198\u001b[39m     keyarr, indexer, new_indexer = \u001b[38;5;28mself\u001b[39m._reindex_non_unique(keyarr)\n\u001b[32m-> \u001b[39m\u001b[32m6200\u001b[39m \u001b[38;5;28;43mself\u001b[39;49m\u001b[43m.\u001b[49m\u001b[43m_raise_if_missing\u001b[49m\u001b[43m(\u001b[49m\u001b[43mkeyarr\u001b[49m\u001b[43m,\u001b[49m\u001b[43m \u001b[49m\u001b[43mindexer\u001b[49m\u001b[43m,\u001b[49m\u001b[43m \u001b[49m\u001b[43maxis_name\u001b[49m\u001b[43m)\u001b[49m\n\u001b[32m   6202\u001b[39m keyarr = \u001b[38;5;28mself\u001b[39m.take(indexer)\n\u001b[32m   6203\u001b[39m \u001b[38;5;28;01mif\u001b[39;00m \u001b[38;5;28misinstance\u001b[39m(key, Index):\n\u001b[32m   6204\u001b[39m     \u001b[38;5;66;03m# GH 42790 - Preserve name from an Index\u001b[39;00m\n",
      "\u001b[36mFile \u001b[39m\u001b[32m~\\AppData\\Roaming\\Python\\Python313\\site-packages\\pandas\\core\\indexes\\base.py:6252\u001b[39m, in \u001b[36mIndex._raise_if_missing\u001b[39m\u001b[34m(self, key, indexer, axis_name)\u001b[39m\n\u001b[32m   6249\u001b[39m     \u001b[38;5;28;01mraise\u001b[39;00m \u001b[38;5;167;01mKeyError\u001b[39;00m(\u001b[33mf\u001b[39m\u001b[33m\"\u001b[39m\u001b[33mNone of [\u001b[39m\u001b[38;5;132;01m{\u001b[39;00mkey\u001b[38;5;132;01m}\u001b[39;00m\u001b[33m] are in the [\u001b[39m\u001b[38;5;132;01m{\u001b[39;00maxis_name\u001b[38;5;132;01m}\u001b[39;00m\u001b[33m]\u001b[39m\u001b[33m\"\u001b[39m)\n\u001b[32m   6251\u001b[39m not_found = \u001b[38;5;28mlist\u001b[39m(ensure_index(key)[missing_mask.nonzero()[\u001b[32m0\u001b[39m]].unique())\n\u001b[32m-> \u001b[39m\u001b[32m6252\u001b[39m \u001b[38;5;28;01mraise\u001b[39;00m \u001b[38;5;167;01mKeyError\u001b[39;00m(\u001b[33mf\u001b[39m\u001b[33m\"\u001b[39m\u001b[38;5;132;01m{\u001b[39;00mnot_found\u001b[38;5;132;01m}\u001b[39;00m\u001b[33m not in index\u001b[39m\u001b[33m\"\u001b[39m)\n",
      "\u001b[31mKeyError\u001b[39m: \"['last_name'] not in index\""
     ]
    }
   ],
   "source": [
    "ordered_last_names = sorted(train_df['last_name'].dropna().unique())\n",
    "last_name_map = {name: idx + 1 for idx, name in enumerate(ordered_last_names)}\n",
    "train_df['last_name_encoded'] = train_df['last_name'].map(last_name_map).fillna(0).astype(int)\n",
    "train_df = train_df.drop(columns=['last_name'])\n",
    "train_df['last_name_encoded'].head(10)"
   ]
  },
  {
   "cell_type": "code",
   "execution_count": 41,
   "id": "44ab9a2f",
   "metadata": {},
   "outputs": [
    {
     "data": {
      "application/vnd.microsoft.datawrangler.viewer.v0+json": {
       "columns": [
        {
         "name": "cabin_deck_encoded",
         "rawType": "int64",
         "type": "integer"
        },
        {
         "name": "count",
         "rawType": "int64",
         "type": "integer"
        }
       ],
       "ref": "4e6c8a39-f5a8-4b42-adba-b45a8c71d596",
       "rows": [
        [
         "6",
         "2794"
        ],
        [
         "7",
         "2559"
        ],
        [
         "5",
         "876"
        ],
        [
         "2",
         "779"
        ],
        [
         "3",
         "747"
        ],
        [
         "4",
         "478"
        ],
        [
         "1",
         "256"
        ],
        [
         "9",
         "199"
        ],
        [
         "8",
         "5"
        ]
       ],
       "shape": {
        "columns": 1,
        "rows": 9
       }
      },
      "text/plain": [
       "cabin_deck_encoded\n",
       "6    2794\n",
       "7    2559\n",
       "5     876\n",
       "2     779\n",
       "3     747\n",
       "4     478\n",
       "1     256\n",
       "9     199\n",
       "8       5\n",
       "Name: count, dtype: int64"
      ]
     },
     "execution_count": 41,
     "metadata": {},
     "output_type": "execute_result"
    }
   ],
   "source": [
    "cabin_deck_map = {\n",
    "    'A': 1,\n",
    "    'B': 2,\n",
    "    'C': 3, \n",
    "    'D': 4,\n",
    "    'E': 5,\n",
    "    'F': 6,\n",
    "    'G': 7,\n",
    "    'T': 8,\n",
    "    'missing': 9\n",
    "}\n",
    "train_df['cabin_deck_encoded'] = train_df['cabin_deck'].map(cabin_deck_map)\n",
    "train_df['cabin_deck_encoded'] = train_df['cabin_deck_encoded'].fillna(9).astype(int)\n",
    "train_df = train_df.drop(columns=['cabin_deck'])\n",
    "train_df['cabin_deck_encoded'].value_counts()"
   ]
  },
  {
   "cell_type": "code",
   "execution_count": 43,
   "id": "0fc19590",
   "metadata": {},
   "outputs": [
    {
     "data": {
      "application/vnd.microsoft.datawrangler.viewer.v0+json": {
       "columns": [
        {
         "name": "cabin_side_encoded",
         "rawType": "int64",
         "type": "integer"
        },
        {
         "name": "count",
         "rawType": "int64",
         "type": "integer"
        }
       ],
       "ref": "8821d079-d3c2-4fdc-81f0-0a30d3d0b99b",
       "rows": [
        [
         "2",
         "4288"
        ],
        [
         "1",
         "4206"
        ],
        [
         "3",
         "199"
        ]
       ],
       "shape": {
        "columns": 1,
        "rows": 3
       }
      },
      "text/plain": [
       "cabin_side_encoded\n",
       "2    4288\n",
       "1    4206\n",
       "3     199\n",
       "Name: count, dtype: int64"
      ]
     },
     "execution_count": 43,
     "metadata": {},
     "output_type": "execute_result"
    }
   ],
   "source": [
    "cabin_side_map = {\n",
    "    'P': 1,\n",
    "    'S': 2,\n",
    "    'missing': 3\n",
    "}\n",
    "train_df['cabin_side_encoded'] = train_df['cabin_side'].map(cabin_side_map)\n",
    "train_df['cabin_side_encoded'] = train_df['cabin_side_encoded'].fillna(3).astype(int)\n",
    "train_df = train_df.drop(columns=['cabin_side'])\n",
    "train_df['cabin_side_encoded'].value_counts()"
   ]
  },
  {
   "cell_type": "code",
   "execution_count": 44,
   "id": "2e2a41f1",
   "metadata": {},
   "outputs": [
    {
     "data": {
      "application/vnd.microsoft.datawrangler.viewer.v0+json": {
       "columns": [
        {
         "name": "index",
         "rawType": "object",
         "type": "string"
        },
        {
         "name": "0",
         "rawType": "object",
         "type": "unknown"
        }
       ],
       "ref": "c8ef8460-ddd0-4337-91e0-2746bf66537f",
       "rows": [
        [
         "Age",
         "float64"
        ],
        [
         "RoomService",
         "float64"
        ],
        [
         "FoodCourt",
         "float64"
        ],
        [
         "ShoppingMall",
         "float64"
        ],
        [
         "Spa",
         "float64"
        ],
        [
         "VRDeck",
         "float64"
        ],
        [
         "Transported",
         "bool"
        ],
        [
         "Age_is_missing",
         "int64"
        ],
        [
         "RoomService_is_missing",
         "int64"
        ],
        [
         "FoodCourt_is_missing",
         "int64"
        ],
        [
         "ShoppingMall_is_missing",
         "int64"
        ],
        [
         "Spa_is_missing",
         "int64"
        ],
        [
         "VRDeck_is_missing",
         "int64"
        ],
        [
         "group_number",
         "int64"
        ],
        [
         "number_within_group",
         "int64"
        ],
        [
         "cabin_num",
         "int64"
        ],
        [
         "age_decade",
         "int64"
        ],
        [
         "total_spent",
         "float64"
        ],
        [
         "did_spend",
         "int64"
        ],
        [
         "spending_quartile",
         "int64"
        ],
        [
         "high_spender",
         "int64"
        ],
        [
         "last_name",
         "object"
        ],
        [
         "destination_encoded",
         "int64"
        ],
        [
         "home_planet_encoded",
         "int64"
        ],
        [
         "vip_encoded",
         "int64"
        ],
        [
         "cryo_sleep_encoded",
         "int64"
        ],
        [
         "last_name_encoded",
         "int64"
        ],
        [
         "cabin_deck_encoded",
         "int64"
        ],
        [
         "cabin_side_encoded",
         "int64"
        ]
       ],
       "shape": {
        "columns": 1,
        "rows": 29
       }
      },
      "text/plain": [
       "Age                        float64\n",
       "RoomService                float64\n",
       "FoodCourt                  float64\n",
       "ShoppingMall               float64\n",
       "Spa                        float64\n",
       "VRDeck                     float64\n",
       "Transported                   bool\n",
       "Age_is_missing               int64\n",
       "RoomService_is_missing       int64\n",
       "FoodCourt_is_missing         int64\n",
       "ShoppingMall_is_missing      int64\n",
       "Spa_is_missing               int64\n",
       "VRDeck_is_missing            int64\n",
       "group_number                 int64\n",
       "number_within_group          int64\n",
       "cabin_num                    int64\n",
       "age_decade                   int64\n",
       "total_spent                float64\n",
       "did_spend                    int64\n",
       "spending_quartile            int64\n",
       "high_spender                 int64\n",
       "last_name                   object\n",
       "destination_encoded          int64\n",
       "home_planet_encoded          int64\n",
       "vip_encoded                  int64\n",
       "cryo_sleep_encoded           int64\n",
       "last_name_encoded            int64\n",
       "cabin_deck_encoded           int64\n",
       "cabin_side_encoded           int64\n",
       "dtype: object"
      ]
     },
     "execution_count": 44,
     "metadata": {},
     "output_type": "execute_result"
    }
   ],
   "source": [
    "train_df.dtypes"
   ]
  }
 ],
 "metadata": {
  "kernelspec": {
   "display_name": "Python 3",
   "language": "python",
   "name": "python3"
  },
  "language_info": {
   "codemirror_mode": {
    "name": "ipython",
    "version": 3
   },
   "file_extension": ".py",
   "mimetype": "text/x-python",
   "name": "python",
   "nbconvert_exporter": "python",
   "pygments_lexer": "ipython3",
   "version": "3.13.3"
  }
 },
 "nbformat": 4,
 "nbformat_minor": 5
}
